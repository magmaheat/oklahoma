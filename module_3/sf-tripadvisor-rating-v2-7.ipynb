{
 "cells": [
  {
   "cell_type": "markdown",
   "metadata": {
    "execution": {
     "iopub.execute_input": "2021-06-03T13:50:43.830176Z",
     "iopub.status.busy": "2021-06-03T13:50:43.829875Z",
     "iopub.status.idle": "2021-06-03T13:50:43.833739Z",
     "shell.execute_reply": "2021-06-03T13:50:43.832805Z",
     "shell.execute_reply.started": "2021-06-03T13:50:43.83013Z"
    }
   },
   "source": [
    "## В этом соревновании нам предстоит предсказать рейтинг ресторана в TripAdvisor"
   ]
  },
  {
   "cell_type": "code",
   "execution_count": 1,
   "metadata": {
    "_cell_guid": "b1076dfc-b9ad-4769-8c92-a6c4dae69d19",
    "_uuid": "8f2839f25d086af736a60e9eeb907d3b93b6e0e5",
    "execution": {
     "iopub.execute_input": "2021-06-12T17:17:15.756048Z",
     "iopub.status.busy": "2021-06-12T17:17:15.755608Z",
     "iopub.status.idle": "2021-06-12T17:17:15.780997Z",
     "shell.execute_reply": "2021-06-12T17:17:15.779152Z",
     "shell.execute_reply.started": "2021-06-12T17:17:15.755984Z"
    }
   },
   "outputs": [
    {
     "name": "stdout",
     "output_type": "stream",
     "text": [
      "/kaggle/input/countries-of-the-world/countries of the world.csv\n",
      "/kaggle/input/sf-dst-restaurant-rating/sample_submission.csv\n",
      "/kaggle/input/sf-dst-restaurant-rating/main_task.csv\n",
      "/kaggle/input/sf-dst-restaurant-rating/kaggle_task.csv\n"
     ]
    }
   ],
   "source": [
    "import pandas as pd\n",
    "import time\n",
    "from datetime import date\n",
    "from datetime import datetime\n",
    "import re\n",
    "import warnings\n",
    "\n",
    "warnings.filterwarnings('ignore')\n",
    "\n",
    "import numpy as np # linear algebra\n",
    "import pandas as pd # data processing, CSV file I/O (e.g. pd.read_csv)\n",
    "\n",
    "\n",
    "# This Python 3 environment comes with many helpful analytics libraries installed\n",
    "# It is defined by the kaggle/python docker image: https://github.com/kaggle/docker-python\n",
    "# For example, here's several helpful packages to load in \n",
    "\n",
    "import numpy as np # linear algebra\n",
    "import pandas as pd # data processing, CSV file I/O (e.g. pd.read_csv)\n",
    "import re\n",
    "from datetime import datetime\n",
    "\n",
    "import matplotlib.pyplot as plt\n",
    "import seaborn as sns \n",
    "%matplotlib inline\n",
    "\n",
    "# Загружаем специальный удобный инструмент для разделения датасета:\n",
    "from sklearn.model_selection import train_test_split\n",
    "\n",
    "# Input data files are available in the \"../input/\" directory.\n",
    "# For example, running this (by clicking run or pressing Shift+Enter) will list all files under the input directory\n",
    "\n",
    "import os\n",
    "for dirname, _, filenames in os.walk('/kaggle/input'):\n",
    "    for filename in filenames:\n",
    "        print(os.path.join(dirname, filename))\n",
    "\n",
    "# Any results you write to the current directory are saved as output."
   ]
  },
  {
   "cell_type": "code",
   "execution_count": 2,
   "metadata": {
    "execution": {
     "iopub.execute_input": "2021-06-12T17:17:16.734161Z",
     "iopub.status.busy": "2021-06-12T17:17:16.733711Z",
     "iopub.status.idle": "2021-06-12T17:17:16.739337Z",
     "shell.execute_reply": "2021-06-12T17:17:16.737994Z",
     "shell.execute_reply.started": "2021-06-12T17:17:16.734086Z"
    }
   },
   "outputs": [],
   "source": [
    "# фиксируем RANDOM_SEED, чтобы наши эксперименты были воспроизводимы!\n",
    "RANDOM_SEED = 42"
   ]
  },
  {
   "cell_type": "code",
   "execution_count": 3,
   "metadata": {
    "execution": {
     "iopub.execute_input": "2021-06-12T17:17:17.333218Z",
     "iopub.status.busy": "2021-06-12T17:17:17.332551Z",
     "iopub.status.idle": "2021-06-12T17:17:21.315163Z",
     "shell.execute_reply": "2021-06-12T17:17:21.313469Z",
     "shell.execute_reply.started": "2021-06-12T17:17:17.333120Z"
    }
   },
   "outputs": [],
   "source": [
    "# зафиксируем версию пакетов, чтобы эксперименты были воспроизводимы:\n",
    "!pip freeze > requirements.txt"
   ]
  },
  {
   "cell_type": "markdown",
   "metadata": {},
   "source": [
    "# DATA"
   ]
  },
  {
   "cell_type": "code",
   "execution_count": 4,
   "metadata": {
    "_cell_guid": "79c7e3d0-c299-4dcb-8224-4455121ee9b0",
    "_uuid": "d629ff2d2480ee46fbb7e2d37f6b5fab8052498a",
    "execution": {
     "iopub.execute_input": "2021-06-12T17:17:21.318340Z",
     "iopub.status.busy": "2021-06-12T17:17:21.317991Z",
     "iopub.status.idle": "2021-06-12T17:17:21.746609Z",
     "shell.execute_reply": "2021-06-12T17:17:21.745261Z",
     "shell.execute_reply.started": "2021-06-12T17:17:21.318291Z"
    }
   },
   "outputs": [],
   "source": [
    "DATA_DIR = '/kaggle/input/sf-dst-restaurant-rating/'\n",
    "df_train = pd.read_csv(DATA_DIR+'/main_task.csv')\n",
    "df_test = pd.read_csv(DATA_DIR+'kaggle_task.csv')\n",
    "sample_submission = pd.read_csv(DATA_DIR+'/sample_submission.csv')"
   ]
  },
  {
   "cell_type": "code",
   "execution_count": 5,
   "metadata": {
    "execution": {
     "iopub.execute_input": "2021-06-12T17:17:21.749241Z",
     "iopub.status.busy": "2021-06-12T17:17:21.748736Z",
     "iopub.status.idle": "2021-06-12T17:17:21.770898Z",
     "shell.execute_reply": "2021-06-12T17:17:21.769988Z",
     "shell.execute_reply.started": "2021-06-12T17:17:21.749157Z"
    }
   },
   "outputs": [],
   "source": [
    "cs_world = pd.read_csv('../input/countries-of-the-world/countries of the world.csv')\n"
   ]
  },
  {
   "cell_type": "code",
   "execution_count": 6,
   "metadata": {
    "execution": {
     "iopub.execute_input": "2021-06-12T17:17:21.772977Z",
     "iopub.status.busy": "2021-06-12T17:17:21.772439Z",
     "iopub.status.idle": "2021-06-12T17:17:21.827121Z",
     "shell.execute_reply": "2021-06-12T17:17:21.825512Z",
     "shell.execute_reply.started": "2021-06-12T17:17:21.772928Z"
    }
   },
   "outputs": [
    {
     "data": {
      "text/html": [
       "<div>\n",
       "<style scoped>\n",
       "    .dataframe tbody tr th:only-of-type {\n",
       "        vertical-align: middle;\n",
       "    }\n",
       "\n",
       "    .dataframe tbody tr th {\n",
       "        vertical-align: top;\n",
       "    }\n",
       "\n",
       "    .dataframe thead th {\n",
       "        text-align: right;\n",
       "    }\n",
       "</style>\n",
       "<table border=\"1\" class=\"dataframe\">\n",
       "  <thead>\n",
       "    <tr style=\"text-align: right;\">\n",
       "      <th></th>\n",
       "      <th>Country</th>\n",
       "      <th>Region</th>\n",
       "      <th>Population</th>\n",
       "      <th>Area (sq. mi.)</th>\n",
       "      <th>Pop. Density (per sq. mi.)</th>\n",
       "      <th>Coastline (coast/area ratio)</th>\n",
       "      <th>Net migration</th>\n",
       "      <th>Infant mortality (per 1000 births)</th>\n",
       "      <th>GDP ($ per capita)</th>\n",
       "      <th>Literacy (%)</th>\n",
       "      <th>Phones (per 1000)</th>\n",
       "      <th>Arable (%)</th>\n",
       "      <th>Crops (%)</th>\n",
       "      <th>Other (%)</th>\n",
       "      <th>Climate</th>\n",
       "      <th>Birthrate</th>\n",
       "      <th>Deathrate</th>\n",
       "      <th>Agriculture</th>\n",
       "      <th>Industry</th>\n",
       "      <th>Service</th>\n",
       "    </tr>\n",
       "  </thead>\n",
       "  <tbody>\n",
       "    <tr>\n",
       "      <th>0</th>\n",
       "      <td>Afghanistan</td>\n",
       "      <td>ASIA (EX. NEAR EAST)</td>\n",
       "      <td>31056997</td>\n",
       "      <td>647500</td>\n",
       "      <td>48,0</td>\n",
       "      <td>0,00</td>\n",
       "      <td>23,06</td>\n",
       "      <td>163,07</td>\n",
       "      <td>700.0</td>\n",
       "      <td>36,0</td>\n",
       "      <td>3,2</td>\n",
       "      <td>12,13</td>\n",
       "      <td>0,22</td>\n",
       "      <td>87,65</td>\n",
       "      <td>1</td>\n",
       "      <td>46,6</td>\n",
       "      <td>20,34</td>\n",
       "      <td>0,38</td>\n",
       "      <td>0,24</td>\n",
       "      <td>0,38</td>\n",
       "    </tr>\n",
       "    <tr>\n",
       "      <th>1</th>\n",
       "      <td>Albania</td>\n",
       "      <td>EASTERN EUROPE</td>\n",
       "      <td>3581655</td>\n",
       "      <td>28748</td>\n",
       "      <td>124,6</td>\n",
       "      <td>1,26</td>\n",
       "      <td>-4,93</td>\n",
       "      <td>21,52</td>\n",
       "      <td>4500.0</td>\n",
       "      <td>86,5</td>\n",
       "      <td>71,2</td>\n",
       "      <td>21,09</td>\n",
       "      <td>4,42</td>\n",
       "      <td>74,49</td>\n",
       "      <td>3</td>\n",
       "      <td>15,11</td>\n",
       "      <td>5,22</td>\n",
       "      <td>0,232</td>\n",
       "      <td>0,188</td>\n",
       "      <td>0,579</td>\n",
       "    </tr>\n",
       "    <tr>\n",
       "      <th>2</th>\n",
       "      <td>Algeria</td>\n",
       "      <td>NORTHERN AFRICA</td>\n",
       "      <td>32930091</td>\n",
       "      <td>2381740</td>\n",
       "      <td>13,8</td>\n",
       "      <td>0,04</td>\n",
       "      <td>-0,39</td>\n",
       "      <td>31</td>\n",
       "      <td>6000.0</td>\n",
       "      <td>70,0</td>\n",
       "      <td>78,1</td>\n",
       "      <td>3,22</td>\n",
       "      <td>0,25</td>\n",
       "      <td>96,53</td>\n",
       "      <td>1</td>\n",
       "      <td>17,14</td>\n",
       "      <td>4,61</td>\n",
       "      <td>0,101</td>\n",
       "      <td>0,6</td>\n",
       "      <td>0,298</td>\n",
       "    </tr>\n",
       "    <tr>\n",
       "      <th>3</th>\n",
       "      <td>American Samoa</td>\n",
       "      <td>OCEANIA</td>\n",
       "      <td>57794</td>\n",
       "      <td>199</td>\n",
       "      <td>290,4</td>\n",
       "      <td>58,29</td>\n",
       "      <td>-20,71</td>\n",
       "      <td>9,27</td>\n",
       "      <td>8000.0</td>\n",
       "      <td>97,0</td>\n",
       "      <td>259,5</td>\n",
       "      <td>10</td>\n",
       "      <td>15</td>\n",
       "      <td>75</td>\n",
       "      <td>2</td>\n",
       "      <td>22,46</td>\n",
       "      <td>3,27</td>\n",
       "      <td>NaN</td>\n",
       "      <td>NaN</td>\n",
       "      <td>NaN</td>\n",
       "    </tr>\n",
       "    <tr>\n",
       "      <th>4</th>\n",
       "      <td>Andorra</td>\n",
       "      <td>WESTERN EUROPE</td>\n",
       "      <td>71201</td>\n",
       "      <td>468</td>\n",
       "      <td>152,1</td>\n",
       "      <td>0,00</td>\n",
       "      <td>6,6</td>\n",
       "      <td>4,05</td>\n",
       "      <td>19000.0</td>\n",
       "      <td>100,0</td>\n",
       "      <td>497,2</td>\n",
       "      <td>2,22</td>\n",
       "      <td>0</td>\n",
       "      <td>97,78</td>\n",
       "      <td>3</td>\n",
       "      <td>8,71</td>\n",
       "      <td>6,25</td>\n",
       "      <td>NaN</td>\n",
       "      <td>NaN</td>\n",
       "      <td>NaN</td>\n",
       "    </tr>\n",
       "  </tbody>\n",
       "</table>\n",
       "</div>"
      ],
      "text/plain": [
       "           Country                               Region  Population  \\\n",
       "0     Afghanistan         ASIA (EX. NEAR EAST)             31056997   \n",
       "1         Albania   EASTERN EUROPE                          3581655   \n",
       "2         Algeria   NORTHERN AFRICA                        32930091   \n",
       "3  American Samoa   OCEANIA                                   57794   \n",
       "4         Andorra   WESTERN EUROPE                            71201   \n",
       "\n",
       "   Area (sq. mi.) Pop. Density (per sq. mi.) Coastline (coast/area ratio)  \\\n",
       "0          647500                       48,0                         0,00   \n",
       "1           28748                      124,6                         1,26   \n",
       "2         2381740                       13,8                         0,04   \n",
       "3             199                      290,4                        58,29   \n",
       "4             468                      152,1                         0,00   \n",
       "\n",
       "  Net migration Infant mortality (per 1000 births)  GDP ($ per capita)  \\\n",
       "0         23,06                             163,07               700.0   \n",
       "1         -4,93                              21,52              4500.0   \n",
       "2         -0,39                                 31              6000.0   \n",
       "3        -20,71                               9,27              8000.0   \n",
       "4           6,6                               4,05             19000.0   \n",
       "\n",
       "  Literacy (%) Phones (per 1000) Arable (%) Crops (%) Other (%) Climate  \\\n",
       "0         36,0               3,2      12,13      0,22     87,65       1   \n",
       "1         86,5              71,2      21,09      4,42     74,49       3   \n",
       "2         70,0              78,1       3,22      0,25     96,53       1   \n",
       "3         97,0             259,5         10        15        75       2   \n",
       "4        100,0             497,2       2,22         0     97,78       3   \n",
       "\n",
       "  Birthrate Deathrate Agriculture Industry Service  \n",
       "0      46,6     20,34        0,38     0,24    0,38  \n",
       "1     15,11      5,22       0,232    0,188   0,579  \n",
       "2     17,14      4,61       0,101      0,6   0,298  \n",
       "3     22,46      3,27         NaN      NaN     NaN  \n",
       "4      8,71      6,25         NaN      NaN     NaN  "
      ]
     },
     "execution_count": 6,
     "metadata": {},
     "output_type": "execute_result"
    }
   ],
   "source": [
    "cs_world.head()"
   ]
  },
  {
   "cell_type": "code",
   "execution_count": 7,
   "metadata": {
    "execution": {
     "iopub.execute_input": "2021-06-12T17:17:21.830136Z",
     "iopub.status.busy": "2021-06-12T17:17:21.829724Z",
     "iopub.status.idle": "2021-06-12T17:17:21.837800Z",
     "shell.execute_reply": "2021-06-12T17:17:21.835930Z",
     "shell.execute_reply.started": "2021-06-12T17:17:21.830077Z"
    }
   },
   "outputs": [],
   "source": [
    "for dataset in [df_train, df_test, sample_submission]:\n",
    "    dataset.columns = list(map(lambda x: (x.replace(' ', '_')).lower(), dataset.columns))"
   ]
  },
  {
   "cell_type": "code",
   "execution_count": 8,
   "metadata": {
    "execution": {
     "iopub.execute_input": "2021-06-12T17:17:21.841154Z",
     "iopub.status.busy": "2021-06-12T17:17:21.840624Z",
     "iopub.status.idle": "2021-06-12T17:17:21.893514Z",
     "shell.execute_reply": "2021-06-12T17:17:21.891799Z",
     "shell.execute_reply.started": "2021-06-12T17:17:21.841057Z"
    }
   },
   "outputs": [
    {
     "name": "stdout",
     "output_type": "stream",
     "text": [
      "<class 'pandas.core.frame.DataFrame'>\n",
      "RangeIndex: 40000 entries, 0 to 39999\n",
      "Data columns (total 10 columns):\n",
      "restaurant_id        40000 non-null object\n",
      "city                 40000 non-null object\n",
      "cuisine_style        30717 non-null object\n",
      "ranking              40000 non-null float64\n",
      "rating               40000 non-null float64\n",
      "price_range          26114 non-null object\n",
      "number_of_reviews    37457 non-null float64\n",
      "reviews              40000 non-null object\n",
      "url_ta               40000 non-null object\n",
      "id_ta                40000 non-null object\n",
      "dtypes: float64(3), object(7)\n",
      "memory usage: 3.1+ MB\n"
     ]
    }
   ],
   "source": [
    "df_train.info()"
   ]
  },
  {
   "cell_type": "code",
   "execution_count": 9,
   "metadata": {
    "execution": {
     "iopub.execute_input": "2021-06-12T17:17:21.895709Z",
     "iopub.status.busy": "2021-06-12T17:17:21.895325Z",
     "iopub.status.idle": "2021-06-12T17:17:21.915926Z",
     "shell.execute_reply": "2021-06-12T17:17:21.914863Z",
     "shell.execute_reply.started": "2021-06-12T17:17:21.895639Z"
    }
   },
   "outputs": [
    {
     "data": {
      "text/html": [
       "<div>\n",
       "<style scoped>\n",
       "    .dataframe tbody tr th:only-of-type {\n",
       "        vertical-align: middle;\n",
       "    }\n",
       "\n",
       "    .dataframe tbody tr th {\n",
       "        vertical-align: top;\n",
       "    }\n",
       "\n",
       "    .dataframe thead th {\n",
       "        text-align: right;\n",
       "    }\n",
       "</style>\n",
       "<table border=\"1\" class=\"dataframe\">\n",
       "  <thead>\n",
       "    <tr style=\"text-align: right;\">\n",
       "      <th></th>\n",
       "      <th>restaurant_id</th>\n",
       "      <th>city</th>\n",
       "      <th>cuisine_style</th>\n",
       "      <th>ranking</th>\n",
       "      <th>rating</th>\n",
       "      <th>price_range</th>\n",
       "      <th>number_of_reviews</th>\n",
       "      <th>reviews</th>\n",
       "      <th>url_ta</th>\n",
       "      <th>id_ta</th>\n",
       "    </tr>\n",
       "  </thead>\n",
       "  <tbody>\n",
       "    <tr>\n",
       "      <th>0</th>\n",
       "      <td>id_5569</td>\n",
       "      <td>Paris</td>\n",
       "      <td>['European', 'French', 'International']</td>\n",
       "      <td>5570.0</td>\n",
       "      <td>3.5</td>\n",
       "      <td>$$ - $$$</td>\n",
       "      <td>194.0</td>\n",
       "      <td>[['Good food at your doorstep', 'A good hotel ...</td>\n",
       "      <td>/Restaurant_Review-g187147-d1912643-Reviews-R_...</td>\n",
       "      <td>d1912643</td>\n",
       "    </tr>\n",
       "    <tr>\n",
       "      <th>1</th>\n",
       "      <td>id_1535</td>\n",
       "      <td>Stockholm</td>\n",
       "      <td>NaN</td>\n",
       "      <td>1537.0</td>\n",
       "      <td>4.0</td>\n",
       "      <td>NaN</td>\n",
       "      <td>10.0</td>\n",
       "      <td>[['Unique cuisine', 'Delicious Nepalese food']...</td>\n",
       "      <td>/Restaurant_Review-g189852-d7992032-Reviews-Bu...</td>\n",
       "      <td>d7992032</td>\n",
       "    </tr>\n",
       "    <tr>\n",
       "      <th>2</th>\n",
       "      <td>id_352</td>\n",
       "      <td>London</td>\n",
       "      <td>['Japanese', 'Sushi', 'Asian', 'Grill', 'Veget...</td>\n",
       "      <td>353.0</td>\n",
       "      <td>4.5</td>\n",
       "      <td>$$$$</td>\n",
       "      <td>688.0</td>\n",
       "      <td>[['Catch up with friends', 'Not exceptional'],...</td>\n",
       "      <td>/Restaurant_Review-g186338-d8632781-Reviews-RO...</td>\n",
       "      <td>d8632781</td>\n",
       "    </tr>\n",
       "    <tr>\n",
       "      <th>3</th>\n",
       "      <td>id_3456</td>\n",
       "      <td>Berlin</td>\n",
       "      <td>NaN</td>\n",
       "      <td>3458.0</td>\n",
       "      <td>5.0</td>\n",
       "      <td>NaN</td>\n",
       "      <td>3.0</td>\n",
       "      <td>[[], []]</td>\n",
       "      <td>/Restaurant_Review-g187323-d1358776-Reviews-Es...</td>\n",
       "      <td>d1358776</td>\n",
       "    </tr>\n",
       "    <tr>\n",
       "      <th>4</th>\n",
       "      <td>id_615</td>\n",
       "      <td>Munich</td>\n",
       "      <td>['German', 'Central European', 'Vegetarian Fri...</td>\n",
       "      <td>621.0</td>\n",
       "      <td>4.0</td>\n",
       "      <td>$$ - $$$</td>\n",
       "      <td>84.0</td>\n",
       "      <td>[['Best place to try a Bavarian food', 'Nice b...</td>\n",
       "      <td>/Restaurant_Review-g187309-d6864963-Reviews-Au...</td>\n",
       "      <td>d6864963</td>\n",
       "    </tr>\n",
       "  </tbody>\n",
       "</table>\n",
       "</div>"
      ],
      "text/plain": [
       "  restaurant_id       city                                      cuisine_style  \\\n",
       "0       id_5569      Paris            ['European', 'French', 'International']   \n",
       "1       id_1535  Stockholm                                                NaN   \n",
       "2        id_352     London  ['Japanese', 'Sushi', 'Asian', 'Grill', 'Veget...   \n",
       "3       id_3456     Berlin                                                NaN   \n",
       "4        id_615     Munich  ['German', 'Central European', 'Vegetarian Fri...   \n",
       "\n",
       "   ranking  rating price_range  number_of_reviews  \\\n",
       "0   5570.0     3.5    $$ - $$$              194.0   \n",
       "1   1537.0     4.0         NaN               10.0   \n",
       "2    353.0     4.5        $$$$              688.0   \n",
       "3   3458.0     5.0         NaN                3.0   \n",
       "4    621.0     4.0    $$ - $$$               84.0   \n",
       "\n",
       "                                             reviews  \\\n",
       "0  [['Good food at your doorstep', 'A good hotel ...   \n",
       "1  [['Unique cuisine', 'Delicious Nepalese food']...   \n",
       "2  [['Catch up with friends', 'Not exceptional'],...   \n",
       "3                                           [[], []]   \n",
       "4  [['Best place to try a Bavarian food', 'Nice b...   \n",
       "\n",
       "                                              url_ta     id_ta  \n",
       "0  /Restaurant_Review-g187147-d1912643-Reviews-R_...  d1912643  \n",
       "1  /Restaurant_Review-g189852-d7992032-Reviews-Bu...  d7992032  \n",
       "2  /Restaurant_Review-g186338-d8632781-Reviews-RO...  d8632781  \n",
       "3  /Restaurant_Review-g187323-d1358776-Reviews-Es...  d1358776  \n",
       "4  /Restaurant_Review-g187309-d6864963-Reviews-Au...  d6864963  "
      ]
     },
     "execution_count": 9,
     "metadata": {},
     "output_type": "execute_result"
    }
   ],
   "source": [
    "df_train.head(5)"
   ]
  },
  {
   "cell_type": "code",
   "execution_count": 10,
   "metadata": {
    "execution": {
     "iopub.execute_input": "2021-06-12T17:17:22.010434Z",
     "iopub.status.busy": "2021-06-12T17:17:22.009890Z",
     "iopub.status.idle": "2021-06-12T17:17:22.030231Z",
     "shell.execute_reply": "2021-06-12T17:17:22.028975Z",
     "shell.execute_reply.started": "2021-06-12T17:17:22.010383Z"
    }
   },
   "outputs": [
    {
     "name": "stdout",
     "output_type": "stream",
     "text": [
      "<class 'pandas.core.frame.DataFrame'>\n",
      "RangeIndex: 10000 entries, 0 to 9999\n",
      "Data columns (total 9 columns):\n",
      "restaurant_id        10000 non-null object\n",
      "city                 10000 non-null object\n",
      "cuisine_style        7693 non-null object\n",
      "ranking              10000 non-null float64\n",
      "price_range          6525 non-null object\n",
      "number_of_reviews    9343 non-null float64\n",
      "reviews              9998 non-null object\n",
      "url_ta               10000 non-null object\n",
      "id_ta                10000 non-null object\n",
      "dtypes: float64(2), object(7)\n",
      "memory usage: 703.2+ KB\n"
     ]
    }
   ],
   "source": [
    "df_test.info()"
   ]
  },
  {
   "cell_type": "code",
   "execution_count": 11,
   "metadata": {
    "execution": {
     "iopub.execute_input": "2021-06-12T17:17:22.539546Z",
     "iopub.status.busy": "2021-06-12T17:17:22.539126Z",
     "iopub.status.idle": "2021-06-12T17:17:22.558523Z",
     "shell.execute_reply": "2021-06-12T17:17:22.557642Z",
     "shell.execute_reply.started": "2021-06-12T17:17:22.539478Z"
    }
   },
   "outputs": [
    {
     "data": {
      "text/html": [
       "<div>\n",
       "<style scoped>\n",
       "    .dataframe tbody tr th:only-of-type {\n",
       "        vertical-align: middle;\n",
       "    }\n",
       "\n",
       "    .dataframe tbody tr th {\n",
       "        vertical-align: top;\n",
       "    }\n",
       "\n",
       "    .dataframe thead th {\n",
       "        text-align: right;\n",
       "    }\n",
       "</style>\n",
       "<table border=\"1\" class=\"dataframe\">\n",
       "  <thead>\n",
       "    <tr style=\"text-align: right;\">\n",
       "      <th></th>\n",
       "      <th>restaurant_id</th>\n",
       "      <th>city</th>\n",
       "      <th>cuisine_style</th>\n",
       "      <th>ranking</th>\n",
       "      <th>price_range</th>\n",
       "      <th>number_of_reviews</th>\n",
       "      <th>reviews</th>\n",
       "      <th>url_ta</th>\n",
       "      <th>id_ta</th>\n",
       "    </tr>\n",
       "  </thead>\n",
       "  <tbody>\n",
       "    <tr>\n",
       "      <th>0</th>\n",
       "      <td>id_0</td>\n",
       "      <td>Paris</td>\n",
       "      <td>['Bar', 'Pub']</td>\n",
       "      <td>12963.0</td>\n",
       "      <td>$$ - $$$</td>\n",
       "      <td>4.0</td>\n",
       "      <td>[[], []]</td>\n",
       "      <td>/Restaurant_Review-g187147-d10746918-Reviews-L...</td>\n",
       "      <td>d10746918</td>\n",
       "    </tr>\n",
       "    <tr>\n",
       "      <th>1</th>\n",
       "      <td>id_1</td>\n",
       "      <td>Helsinki</td>\n",
       "      <td>['European', 'Scandinavian', 'Gluten Free Opti...</td>\n",
       "      <td>106.0</td>\n",
       "      <td>$$ - $$$</td>\n",
       "      <td>97.0</td>\n",
       "      <td>[['Very good reviews!', 'Fine dining in Hakani...</td>\n",
       "      <td>/Restaurant_Review-g189934-d6674944-Reviews-Ra...</td>\n",
       "      <td>d6674944</td>\n",
       "    </tr>\n",
       "    <tr>\n",
       "      <th>2</th>\n",
       "      <td>id_2</td>\n",
       "      <td>Edinburgh</td>\n",
       "      <td>['Vegetarian Friendly']</td>\n",
       "      <td>810.0</td>\n",
       "      <td>$$ - $$$</td>\n",
       "      <td>28.0</td>\n",
       "      <td>[['Better than the Links', 'Ivy Black'], ['12/...</td>\n",
       "      <td>/Restaurant_Review-g186525-d13129638-Reviews-B...</td>\n",
       "      <td>d13129638</td>\n",
       "    </tr>\n",
       "    <tr>\n",
       "      <th>3</th>\n",
       "      <td>id_3</td>\n",
       "      <td>London</td>\n",
       "      <td>['Italian', 'Mediterranean', 'European', 'Vege...</td>\n",
       "      <td>1669.0</td>\n",
       "      <td>$$$$</td>\n",
       "      <td>202.0</td>\n",
       "      <td>[['Most exquisite', 'Delicious and authentic']...</td>\n",
       "      <td>/Restaurant_Review-g186338-d680417-Reviews-Qui...</td>\n",
       "      <td>d680417</td>\n",
       "    </tr>\n",
       "    <tr>\n",
       "      <th>4</th>\n",
       "      <td>id_4</td>\n",
       "      <td>Bratislava</td>\n",
       "      <td>['Italian', 'Mediterranean', 'European', 'Seaf...</td>\n",
       "      <td>37.0</td>\n",
       "      <td>$$$$</td>\n",
       "      <td>162.0</td>\n",
       "      <td>[['Always the best in bratislava', 'Very good ...</td>\n",
       "      <td>/Restaurant_Review-g274924-d1112354-Reviews-Ma...</td>\n",
       "      <td>d1112354</td>\n",
       "    </tr>\n",
       "  </tbody>\n",
       "</table>\n",
       "</div>"
      ],
      "text/plain": [
       "  restaurant_id        city  \\\n",
       "0          id_0       Paris   \n",
       "1          id_1    Helsinki   \n",
       "2          id_2   Edinburgh   \n",
       "3          id_3      London   \n",
       "4          id_4  Bratislava   \n",
       "\n",
       "                                       cuisine_style  ranking price_range  \\\n",
       "0                                     ['Bar', 'Pub']  12963.0    $$ - $$$   \n",
       "1  ['European', 'Scandinavian', 'Gluten Free Opti...    106.0    $$ - $$$   \n",
       "2                            ['Vegetarian Friendly']    810.0    $$ - $$$   \n",
       "3  ['Italian', 'Mediterranean', 'European', 'Vege...   1669.0        $$$$   \n",
       "4  ['Italian', 'Mediterranean', 'European', 'Seaf...     37.0        $$$$   \n",
       "\n",
       "   number_of_reviews                                            reviews  \\\n",
       "0                4.0                                           [[], []]   \n",
       "1               97.0  [['Very good reviews!', 'Fine dining in Hakani...   \n",
       "2               28.0  [['Better than the Links', 'Ivy Black'], ['12/...   \n",
       "3              202.0  [['Most exquisite', 'Delicious and authentic']...   \n",
       "4              162.0  [['Always the best in bratislava', 'Very good ...   \n",
       "\n",
       "                                              url_ta      id_ta  \n",
       "0  /Restaurant_Review-g187147-d10746918-Reviews-L...  d10746918  \n",
       "1  /Restaurant_Review-g189934-d6674944-Reviews-Ra...   d6674944  \n",
       "2  /Restaurant_Review-g186525-d13129638-Reviews-B...  d13129638  \n",
       "3  /Restaurant_Review-g186338-d680417-Reviews-Qui...    d680417  \n",
       "4  /Restaurant_Review-g274924-d1112354-Reviews-Ma...   d1112354  "
      ]
     },
     "execution_count": 11,
     "metadata": {},
     "output_type": "execute_result"
    }
   ],
   "source": [
    "df_test.head(5)"
   ]
  },
  {
   "cell_type": "code",
   "execution_count": 12,
   "metadata": {
    "execution": {
     "iopub.execute_input": "2021-06-12T17:17:22.941943Z",
     "iopub.status.busy": "2021-06-12T17:17:22.941526Z",
     "iopub.status.idle": "2021-06-12T17:17:22.954331Z",
     "shell.execute_reply": "2021-06-12T17:17:22.953419Z",
     "shell.execute_reply.started": "2021-06-12T17:17:22.941870Z"
    }
   },
   "outputs": [
    {
     "data": {
      "text/html": [
       "<div>\n",
       "<style scoped>\n",
       "    .dataframe tbody tr th:only-of-type {\n",
       "        vertical-align: middle;\n",
       "    }\n",
       "\n",
       "    .dataframe tbody tr th {\n",
       "        vertical-align: top;\n",
       "    }\n",
       "\n",
       "    .dataframe thead th {\n",
       "        text-align: right;\n",
       "    }\n",
       "</style>\n",
       "<table border=\"1\" class=\"dataframe\">\n",
       "  <thead>\n",
       "    <tr style=\"text-align: right;\">\n",
       "      <th></th>\n",
       "      <th>restaurant_id</th>\n",
       "      <th>rating</th>\n",
       "    </tr>\n",
       "  </thead>\n",
       "  <tbody>\n",
       "    <tr>\n",
       "      <th>0</th>\n",
       "      <td>id_0</td>\n",
       "      <td>2.0</td>\n",
       "    </tr>\n",
       "    <tr>\n",
       "      <th>1</th>\n",
       "      <td>id_1</td>\n",
       "      <td>2.5</td>\n",
       "    </tr>\n",
       "    <tr>\n",
       "      <th>2</th>\n",
       "      <td>id_2</td>\n",
       "      <td>4.0</td>\n",
       "    </tr>\n",
       "    <tr>\n",
       "      <th>3</th>\n",
       "      <td>id_3</td>\n",
       "      <td>1.0</td>\n",
       "    </tr>\n",
       "    <tr>\n",
       "      <th>4</th>\n",
       "      <td>id_4</td>\n",
       "      <td>4.0</td>\n",
       "    </tr>\n",
       "  </tbody>\n",
       "</table>\n",
       "</div>"
      ],
      "text/plain": [
       "  restaurant_id  rating\n",
       "0          id_0     2.0\n",
       "1          id_1     2.5\n",
       "2          id_2     4.0\n",
       "3          id_3     1.0\n",
       "4          id_4     4.0"
      ]
     },
     "execution_count": 12,
     "metadata": {},
     "output_type": "execute_result"
    }
   ],
   "source": [
    "sample_submission.head(5)"
   ]
  },
  {
   "cell_type": "code",
   "execution_count": 13,
   "metadata": {
    "execution": {
     "iopub.execute_input": "2021-06-12T17:17:23.380760Z",
     "iopub.status.busy": "2021-06-12T17:17:23.380214Z",
     "iopub.status.idle": "2021-06-12T17:17:23.393225Z",
     "shell.execute_reply": "2021-06-12T17:17:23.392287Z",
     "shell.execute_reply.started": "2021-06-12T17:17:23.380706Z"
    }
   },
   "outputs": [
    {
     "name": "stdout",
     "output_type": "stream",
     "text": [
      "<class 'pandas.core.frame.DataFrame'>\n",
      "RangeIndex: 10000 entries, 0 to 9999\n",
      "Data columns (total 2 columns):\n",
      "restaurant_id    10000 non-null object\n",
      "rating           10000 non-null float64\n",
      "dtypes: float64(1), object(1)\n",
      "memory usage: 156.4+ KB\n"
     ]
    }
   ],
   "source": [
    "sample_submission.info()"
   ]
  },
  {
   "cell_type": "code",
   "execution_count": 14,
   "metadata": {
    "execution": {
     "iopub.execute_input": "2021-06-12T17:17:24.195319Z",
     "iopub.status.busy": "2021-06-12T17:17:24.194909Z",
     "iopub.status.idle": "2021-06-12T17:17:24.263568Z",
     "shell.execute_reply": "2021-06-12T17:17:24.262323Z",
     "shell.execute_reply.started": "2021-06-12T17:17:24.195251Z"
    }
   },
   "outputs": [],
   "source": [
    "# ВАЖНО! дря корректной обработки признаков объединяем трейн и тест в один датасет\n",
    "df_train['sample'] = 1 # помечаем где у нас трейн\n",
    "df_test['sample'] = 0 # помечаем где у нас тест\n",
    "df_test['rating'] = 0 # в тесте у нас нет значения Rating, мы его должны предсказать, по этому пока просто заполняем нулями\n",
    "\n",
    "data = df_test.append(df_train, sort=False).reset_index(drop=True) # объединяем"
   ]
  },
  {
   "cell_type": "code",
   "execution_count": 15,
   "metadata": {
    "execution": {
     "iopub.execute_input": "2021-06-12T17:17:24.771069Z",
     "iopub.status.busy": "2021-06-12T17:17:24.770659Z",
     "iopub.status.idle": "2021-06-12T17:17:24.811208Z",
     "shell.execute_reply": "2021-06-12T17:17:24.810451Z",
     "shell.execute_reply.started": "2021-06-12T17:17:24.771004Z"
    }
   },
   "outputs": [
    {
     "name": "stdout",
     "output_type": "stream",
     "text": [
      "<class 'pandas.core.frame.DataFrame'>\n",
      "RangeIndex: 50000 entries, 0 to 49999\n",
      "Data columns (total 11 columns):\n",
      "restaurant_id        50000 non-null object\n",
      "city                 50000 non-null object\n",
      "cuisine_style        38410 non-null object\n",
      "ranking              50000 non-null float64\n",
      "price_range          32639 non-null object\n",
      "number_of_reviews    46800 non-null float64\n",
      "reviews              49998 non-null object\n",
      "url_ta               50000 non-null object\n",
      "id_ta                50000 non-null object\n",
      "sample               50000 non-null int64\n",
      "rating               50000 non-null float64\n",
      "dtypes: float64(3), int64(1), object(7)\n",
      "memory usage: 4.2+ MB\n"
     ]
    }
   ],
   "source": [
    "data.info()"
   ]
  },
  {
   "cell_type": "markdown",
   "metadata": {},
   "source": [
    "Подробнее по признакам:\n",
    "* city: Город \n",
    "* cuisine_style: Кухня\n",
    "* ranking: Ранг ресторана относительно других ресторанов в этом городе\n",
    "* price_range: Цены в ресторане в 3 категориях\n",
    "* number_of_reviews: Количество отзывов\n",
    "* reviews: 2 последних отзыва и даты этих отзывов\n",
    "* url_ta: страница ресторана на 'www.tripadvisor.com' \n",
    "* id_ta: ID ресторана в TripAdvisor\n",
    "* rating: Рейтинг ресторана"
   ]
  },
  {
   "cell_type": "code",
   "execution_count": 16,
   "metadata": {
    "execution": {
     "iopub.execute_input": "2021-06-12T17:17:25.941803Z",
     "iopub.status.busy": "2021-06-12T17:17:25.941282Z",
     "iopub.status.idle": "2021-06-12T17:17:25.963255Z",
     "shell.execute_reply": "2021-06-12T17:17:25.962294Z",
     "shell.execute_reply.started": "2021-06-12T17:17:25.941712Z"
    }
   },
   "outputs": [
    {
     "data": {
      "text/html": [
       "<div>\n",
       "<style scoped>\n",
       "    .dataframe tbody tr th:only-of-type {\n",
       "        vertical-align: middle;\n",
       "    }\n",
       "\n",
       "    .dataframe tbody tr th {\n",
       "        vertical-align: top;\n",
       "    }\n",
       "\n",
       "    .dataframe thead th {\n",
       "        text-align: right;\n",
       "    }\n",
       "</style>\n",
       "<table border=\"1\" class=\"dataframe\">\n",
       "  <thead>\n",
       "    <tr style=\"text-align: right;\">\n",
       "      <th></th>\n",
       "      <th>restaurant_id</th>\n",
       "      <th>city</th>\n",
       "      <th>cuisine_style</th>\n",
       "      <th>ranking</th>\n",
       "      <th>price_range</th>\n",
       "      <th>number_of_reviews</th>\n",
       "      <th>reviews</th>\n",
       "      <th>url_ta</th>\n",
       "      <th>id_ta</th>\n",
       "      <th>sample</th>\n",
       "      <th>rating</th>\n",
       "    </tr>\n",
       "  </thead>\n",
       "  <tbody>\n",
       "    <tr>\n",
       "      <th>34081</th>\n",
       "      <td>id_4130</td>\n",
       "      <td>Barcelona</td>\n",
       "      <td>NaN</td>\n",
       "      <td>4131.0</td>\n",
       "      <td>NaN</td>\n",
       "      <td>NaN</td>\n",
       "      <td>[[], []]</td>\n",
       "      <td>/Restaurant_Review-g187497-d986416-Reviews-Res...</td>\n",
       "      <td>d986416</td>\n",
       "      <td>1</td>\n",
       "      <td>5.0</td>\n",
       "    </tr>\n",
       "    <tr>\n",
       "      <th>8312</th>\n",
       "      <td>id_8312</td>\n",
       "      <td>Prague</td>\n",
       "      <td>['Bar', 'Czech', 'Central European', 'European...</td>\n",
       "      <td>1580.0</td>\n",
       "      <td>$</td>\n",
       "      <td>52.0</td>\n",
       "      <td>[['Nice dinner away from the crowd!', 'Good fo...</td>\n",
       "      <td>/Restaurant_Review-g274707-d694900-Reviews-U_S...</td>\n",
       "      <td>d694900</td>\n",
       "      <td>0</td>\n",
       "      <td>0.0</td>\n",
       "    </tr>\n",
       "    <tr>\n",
       "      <th>36479</th>\n",
       "      <td>id_8624</td>\n",
       "      <td>Paris</td>\n",
       "      <td>['French', 'European']</td>\n",
       "      <td>8626.0</td>\n",
       "      <td>$</td>\n",
       "      <td>166.0</td>\n",
       "      <td>[['Normal', 'Small bistro, reasonable pricing ...</td>\n",
       "      <td>/Restaurant_Review-g187147-d783245-Reviews-Bis...</td>\n",
       "      <td>d783245</td>\n",
       "      <td>1</td>\n",
       "      <td>3.5</td>\n",
       "    </tr>\n",
       "    <tr>\n",
       "      <th>4912</th>\n",
       "      <td>id_4912</td>\n",
       "      <td>Paris</td>\n",
       "      <td>['Asian', 'Taiwanese', 'Vietnamese']</td>\n",
       "      <td>6115.0</td>\n",
       "      <td>$</td>\n",
       "      <td>16.0</td>\n",
       "      <td>[['great home made food', 'The place to be if ...</td>\n",
       "      <td>/Restaurant_Review-g187147-d1328307-Reviews-Op...</td>\n",
       "      <td>d1328307</td>\n",
       "      <td>0</td>\n",
       "      <td>0.0</td>\n",
       "    </tr>\n",
       "    <tr>\n",
       "      <th>48292</th>\n",
       "      <td>id_4176</td>\n",
       "      <td>Barcelona</td>\n",
       "      <td>['Cafe', 'Fast Food', 'Spanish', 'Pub', 'Gastr...</td>\n",
       "      <td>4177.0</td>\n",
       "      <td>NaN</td>\n",
       "      <td>NaN</td>\n",
       "      <td>[[], []]</td>\n",
       "      <td>/Restaurant_Review-g187497-d12839942-Reviews-S...</td>\n",
       "      <td>d12839942</td>\n",
       "      <td>1</td>\n",
       "      <td>5.0</td>\n",
       "    </tr>\n",
       "  </tbody>\n",
       "</table>\n",
       "</div>"
      ],
      "text/plain": [
       "      restaurant_id       city  \\\n",
       "34081       id_4130  Barcelona   \n",
       "8312        id_8312     Prague   \n",
       "36479       id_8624      Paris   \n",
       "4912        id_4912      Paris   \n",
       "48292       id_4176  Barcelona   \n",
       "\n",
       "                                           cuisine_style  ranking price_range  \\\n",
       "34081                                                NaN   4131.0         NaN   \n",
       "8312   ['Bar', 'Czech', 'Central European', 'European...   1580.0           $   \n",
       "36479                             ['French', 'European']   8626.0           $   \n",
       "4912                ['Asian', 'Taiwanese', 'Vietnamese']   6115.0           $   \n",
       "48292  ['Cafe', 'Fast Food', 'Spanish', 'Pub', 'Gastr...   4177.0         NaN   \n",
       "\n",
       "       number_of_reviews                                            reviews  \\\n",
       "34081                NaN                                           [[], []]   \n",
       "8312                52.0  [['Nice dinner away from the crowd!', 'Good fo...   \n",
       "36479              166.0  [['Normal', 'Small bistro, reasonable pricing ...   \n",
       "4912                16.0  [['great home made food', 'The place to be if ...   \n",
       "48292                NaN                                           [[], []]   \n",
       "\n",
       "                                                  url_ta      id_ta  sample  \\\n",
       "34081  /Restaurant_Review-g187497-d986416-Reviews-Res...    d986416       1   \n",
       "8312   /Restaurant_Review-g274707-d694900-Reviews-U_S...    d694900       0   \n",
       "36479  /Restaurant_Review-g187147-d783245-Reviews-Bis...    d783245       1   \n",
       "4912   /Restaurant_Review-g187147-d1328307-Reviews-Op...   d1328307       0   \n",
       "48292  /Restaurant_Review-g187497-d12839942-Reviews-S...  d12839942       1   \n",
       "\n",
       "       rating  \n",
       "34081     5.0  \n",
       "8312      0.0  \n",
       "36479     3.5  \n",
       "4912      0.0  \n",
       "48292     5.0  "
      ]
     },
     "execution_count": 16,
     "metadata": {},
     "output_type": "execute_result"
    }
   ],
   "source": [
    "data.sample(5)"
   ]
  },
  {
   "cell_type": "code",
   "execution_count": 17,
   "metadata": {
    "execution": {
     "iopub.execute_input": "2021-06-12T17:17:26.381936Z",
     "iopub.status.busy": "2021-06-12T17:17:26.381394Z",
     "iopub.status.idle": "2021-06-12T17:17:26.389462Z",
     "shell.execute_reply": "2021-06-12T17:17:26.388220Z",
     "shell.execute_reply.started": "2021-06-12T17:17:26.381860Z"
    }
   },
   "outputs": [
    {
     "data": {
      "text/plain": [
       "\"[['Very good reviews!', 'Fine dining in Hakaniemi'], ['12/05/2017', '10/29/2017']]\""
      ]
     },
     "execution_count": 17,
     "metadata": {},
     "output_type": "execute_result"
    }
   ],
   "source": [
    "data.reviews[1]"
   ]
  },
  {
   "cell_type": "markdown",
   "metadata": {},
   "source": [
    "Как видим, большинство признаков у нас требует очистки и предварительной обработки."
   ]
  },
  {
   "cell_type": "markdown",
   "metadata": {},
   "source": [
    "## 1. Обработка NAN и работа с пропусками.\n",
    "У наличия пропусков могут быть разные причины, но пропуски нужно либо заполнить, либо исключить из набора полностью. Но с пропусками нужно быть внимательным, **даже отсутствие информации может быть важным признаком!**   \n",
    "По этому перед обработкой NAN лучше вынести информацию о наличии пропуска как отдельный признак "
   ]
  },
  {
   "cell_type": "code",
   "execution_count": 18,
   "metadata": {
    "execution": {
     "iopub.execute_input": "2021-06-12T17:17:29.616321Z",
     "iopub.status.busy": "2021-06-12T17:17:29.615991Z",
     "iopub.status.idle": "2021-06-12T17:17:29.659751Z",
     "shell.execute_reply": "2021-06-12T17:17:29.658457Z",
     "shell.execute_reply.started": "2021-06-12T17:17:29.616266Z"
    }
   },
   "outputs": [
    {
     "name": "stdout",
     "output_type": "stream",
     "text": [
      "<class 'pandas.core.frame.DataFrame'>\n",
      "RangeIndex: 50000 entries, 0 to 49999\n",
      "Data columns (total 11 columns):\n",
      "restaurant_id        50000 non-null object\n",
      "city                 50000 non-null object\n",
      "cuisine_style        38410 non-null object\n",
      "ranking              50000 non-null float64\n",
      "price_range          32639 non-null object\n",
      "number_of_reviews    46800 non-null float64\n",
      "reviews              49998 non-null object\n",
      "url_ta               50000 non-null object\n",
      "id_ta                50000 non-null object\n",
      "sample               50000 non-null int64\n",
      "rating               50000 non-null float64\n",
      "dtypes: float64(3), int64(1), object(7)\n",
      "memory usage: 4.2+ MB\n"
     ]
    }
   ],
   "source": [
    "data.info()"
   ]
  },
  {
   "cell_type": "code",
   "execution_count": 19,
   "metadata": {
    "execution": {
     "iopub.execute_input": "2021-06-12T17:17:30.099316Z",
     "iopub.status.busy": "2021-06-12T17:17:30.098992Z",
     "iopub.status.idle": "2021-06-12T17:17:30.118271Z",
     "shell.execute_reply": "2021-06-12T17:17:30.117243Z",
     "shell.execute_reply.started": "2021-06-12T17:17:30.099260Z"
    }
   },
   "outputs": [],
   "source": [
    "# создадим новые столбцы, где отразим наличие пропусков \n",
    "for i in ['cuisine_style', 'price_range', 'number_of_reviews']:\n",
    "    data[i + '_isNAN'] = pd.isna(data[i]).astype('uint8')\n"
   ]
  },
  {
   "cell_type": "code",
   "execution_count": 20,
   "metadata": {
    "execution": {
     "iopub.execute_input": "2021-06-12T17:17:31.279065Z",
     "iopub.status.busy": "2021-06-12T17:17:31.278614Z",
     "iopub.status.idle": "2021-06-12T17:17:31.293292Z",
     "shell.execute_reply": "2021-06-12T17:17:31.292184Z",
     "shell.execute_reply.started": "2021-06-12T17:17:31.278973Z"
    }
   },
   "outputs": [
    {
     "data": {
      "text/plain": [
       "0    46800\n",
       "1     3200\n",
       "Name: number_of_reviews_isNAN, dtype: int64"
      ]
     },
     "execution_count": 20,
     "metadata": {},
     "output_type": "execute_result"
    }
   ],
   "source": [
    "data['number_of_reviews_isNAN'].value_counts()"
   ]
  },
  {
   "cell_type": "code",
   "execution_count": 21,
   "metadata": {
    "execution": {
     "iopub.execute_input": "2021-06-12T17:17:31.675637Z",
     "iopub.status.busy": "2021-06-12T17:17:31.675247Z",
     "iopub.status.idle": "2021-06-12T17:17:31.727045Z",
     "shell.execute_reply": "2021-06-12T17:17:31.726106Z",
     "shell.execute_reply.started": "2021-06-12T17:17:31.675573Z"
    }
   },
   "outputs": [
    {
     "name": "stdout",
     "output_type": "stream",
     "text": [
      "<class 'pandas.core.frame.DataFrame'>\n",
      "RangeIndex: 50000 entries, 0 to 49999\n",
      "Data columns (total 14 columns):\n",
      "restaurant_id              50000 non-null object\n",
      "city                       50000 non-null object\n",
      "cuisine_style              38410 non-null object\n",
      "ranking                    50000 non-null float64\n",
      "price_range                32639 non-null object\n",
      "number_of_reviews          46800 non-null float64\n",
      "reviews                    49998 non-null object\n",
      "url_ta                     50000 non-null object\n",
      "id_ta                      50000 non-null object\n",
      "sample                     50000 non-null int64\n",
      "rating                     50000 non-null float64\n",
      "cuisine_style_isNAN        50000 non-null uint8\n",
      "price_range_isNAN          50000 non-null uint8\n",
      "number_of_reviews_isNAN    50000 non-null uint8\n",
      "dtypes: float64(3), int64(1), object(7), uint8(3)\n",
      "memory usage: 4.3+ MB\n"
     ]
    }
   ],
   "source": [
    "data.info()"
   ]
  },
  {
   "cell_type": "code",
   "execution_count": 22,
   "metadata": {
    "execution": {
     "iopub.execute_input": "2021-06-12T17:17:32.267840Z",
     "iopub.status.busy": "2021-06-12T17:17:32.267410Z",
     "iopub.status.idle": "2021-06-12T17:17:32.289616Z",
     "shell.execute_reply": "2021-06-12T17:17:32.288067Z",
     "shell.execute_reply.started": "2021-06-12T17:17:32.267747Z"
    }
   },
   "outputs": [
    {
     "data": {
      "text/plain": [
       "$$ - $$$    23041\n",
       "$            7816\n",
       "$$$$         1782\n",
       "Name: price_range, dtype: int64"
      ]
     },
     "execution_count": 22,
     "metadata": {},
     "output_type": "execute_result"
    }
   ],
   "source": [
    "data['price_range'].value_counts()"
   ]
  },
  {
   "cell_type": "code",
   "execution_count": 23,
   "metadata": {
    "execution": {
     "iopub.execute_input": "2021-06-12T17:17:33.298206Z",
     "iopub.status.busy": "2021-06-12T17:17:33.297840Z",
     "iopub.status.idle": "2021-06-12T17:17:33.322235Z",
     "shell.execute_reply": "2021-06-12T17:17:33.321126Z",
     "shell.execute_reply.started": "2021-06-12T17:17:33.298150Z"
    }
   },
   "outputs": [],
   "source": [
    "#заполним пропуски в price_range самым частым значением\n",
    "data['price_range'] = data['price_range'].fillna(data['price_range'].value_counts().index[0])"
   ]
  },
  {
   "cell_type": "code",
   "execution_count": 24,
   "metadata": {
    "execution": {
     "iopub.execute_input": "2021-06-12T17:17:34.374315Z",
     "iopub.status.busy": "2021-06-12T17:17:34.373939Z",
     "iopub.status.idle": "2021-06-12T17:17:47.559220Z",
     "shell.execute_reply": "2021-06-12T17:17:47.558394Z",
     "shell.execute_reply.started": "2021-06-12T17:17:34.374253Z"
    }
   },
   "outputs": [],
   "source": [
    "'''преобразовывем столбец с уровнем цен'''\n",
    "for i in range(len(data)):\n",
    "    if data['price_range'][i] == '$':\n",
    "        data['price_range'][i] = 1\n",
    "    elif data['price_range'][i] == '$$ - $$$':\n",
    "        data['price_range'][i] = 2\n",
    "    elif data['price_range'][i] == '$$$$':\n",
    "        data['price_range'][i] = 3"
   ]
  },
  {
   "cell_type": "code",
   "execution_count": 25,
   "metadata": {
    "execution": {
     "iopub.execute_input": "2021-06-12T17:17:47.561877Z",
     "iopub.status.busy": "2021-06-12T17:17:47.561312Z",
     "iopub.status.idle": "2021-06-12T17:17:47.581957Z",
     "shell.execute_reply": "2021-06-12T17:17:47.580963Z",
     "shell.execute_reply.started": "2021-06-12T17:17:47.561811Z"
    }
   },
   "outputs": [
    {
     "data": {
      "text/plain": [
       "2    40402\n",
       "1     7816\n",
       "3     1782\n",
       "Name: price_range, dtype: int64"
      ]
     },
     "execution_count": 25,
     "metadata": {},
     "output_type": "execute_result"
    }
   ],
   "source": [
    "data['price_range'].value_counts()"
   ]
  },
  {
   "cell_type": "code",
   "execution_count": 26,
   "metadata": {
    "execution": {
     "iopub.execute_input": "2021-06-12T17:17:47.584278Z",
     "iopub.status.busy": "2021-06-12T17:17:47.583673Z",
     "iopub.status.idle": "2021-06-12T17:17:47.635347Z",
     "shell.execute_reply": "2021-06-12T17:17:47.634449Z",
     "shell.execute_reply.started": "2021-06-12T17:17:47.584212Z"
    }
   },
   "outputs": [
    {
     "name": "stdout",
     "output_type": "stream",
     "text": [
      "<class 'pandas.core.frame.DataFrame'>\n",
      "RangeIndex: 50000 entries, 0 to 49999\n",
      "Data columns (total 14 columns):\n",
      "restaurant_id              50000 non-null object\n",
      "city                       50000 non-null object\n",
      "cuisine_style              38410 non-null object\n",
      "ranking                    50000 non-null float64\n",
      "price_range                50000 non-null object\n",
      "number_of_reviews          46800 non-null float64\n",
      "reviews                    49998 non-null object\n",
      "url_ta                     50000 non-null object\n",
      "id_ta                      50000 non-null object\n",
      "sample                     50000 non-null int64\n",
      "rating                     50000 non-null float64\n",
      "cuisine_style_isNAN        50000 non-null uint8\n",
      "price_range_isNAN          50000 non-null uint8\n",
      "number_of_reviews_isNAN    50000 non-null uint8\n",
      "dtypes: float64(3), int64(1), object(7), uint8(3)\n",
      "memory usage: 4.3+ MB\n"
     ]
    }
   ],
   "source": [
    "data.info()"
   ]
  },
  {
   "cell_type": "code",
   "execution_count": 27,
   "metadata": {
    "execution": {
     "iopub.execute_input": "2021-06-12T17:17:47.637686Z",
     "iopub.status.busy": "2021-06-12T17:17:47.636845Z",
     "iopub.status.idle": "2021-06-12T17:17:47.646667Z",
     "shell.execute_reply": "2021-06-12T17:17:47.645843Z",
     "shell.execute_reply.started": "2021-06-12T17:17:47.637628Z"
    }
   },
   "outputs": [],
   "source": [
    "# заполним пропуски медианным значением\n",
    "data['number_of_reviews'] = data['number_of_reviews'].fillna(data['number_of_reviews'].median())"
   ]
  },
  {
   "cell_type": "code",
   "execution_count": 28,
   "metadata": {
    "execution": {
     "iopub.execute_input": "2021-06-12T17:17:47.649403Z",
     "iopub.status.busy": "2021-06-12T17:17:47.649009Z",
     "iopub.status.idle": "2021-06-12T17:17:47.665284Z",
     "shell.execute_reply": "2021-06-12T17:17:47.664399Z",
     "shell.execute_reply.started": "2021-06-12T17:17:47.649342Z"
    }
   },
   "outputs": [],
   "source": [
    "# заполним пропуски временным значением\n",
    "data['cuisine_style'] = data['cuisine_style'].fillna('Russ')"
   ]
  },
  {
   "cell_type": "code",
   "execution_count": 29,
   "metadata": {
    "execution": {
     "iopub.execute_input": "2021-06-12T17:17:47.667236Z",
     "iopub.status.busy": "2021-06-12T17:17:47.666719Z",
     "iopub.status.idle": "2021-06-12T17:17:47.721094Z",
     "shell.execute_reply": "2021-06-12T17:17:47.719906Z",
     "shell.execute_reply.started": "2021-06-12T17:17:47.667183Z"
    }
   },
   "outputs": [
    {
     "name": "stdout",
     "output_type": "stream",
     "text": [
      "<class 'pandas.core.frame.DataFrame'>\n",
      "RangeIndex: 50000 entries, 0 to 49999\n",
      "Data columns (total 14 columns):\n",
      "restaurant_id              50000 non-null object\n",
      "city                       50000 non-null object\n",
      "cuisine_style              50000 non-null object\n",
      "ranking                    50000 non-null float64\n",
      "price_range                50000 non-null object\n",
      "number_of_reviews          50000 non-null float64\n",
      "reviews                    49998 non-null object\n",
      "url_ta                     50000 non-null object\n",
      "id_ta                      50000 non-null object\n",
      "sample                     50000 non-null int64\n",
      "rating                     50000 non-null float64\n",
      "cuisine_style_isNAN        50000 non-null uint8\n",
      "price_range_isNAN          50000 non-null uint8\n",
      "number_of_reviews_isNAN    50000 non-null uint8\n",
      "dtypes: float64(3), int64(1), object(7), uint8(3)\n",
      "memory usage: 4.3+ MB\n"
     ]
    }
   ],
   "source": [
    "data.info()"
   ]
  },
  {
   "cell_type": "code",
   "execution_count": 30,
   "metadata": {
    "execution": {
     "iopub.execute_input": "2021-06-12T17:17:47.722974Z",
     "iopub.status.busy": "2021-06-12T17:17:47.722684Z",
     "iopub.status.idle": "2021-06-12T17:17:47.729090Z",
     "shell.execute_reply": "2021-06-12T17:17:47.728206Z",
     "shell.execute_reply.started": "2021-06-12T17:17:47.722922Z"
    }
   },
   "outputs": [
    {
     "data": {
      "text/plain": [
       "\"[['Very good reviews!', 'Fine dining in Hakaniemi'], ['12/05/2017', '10/29/2017']]\""
      ]
     },
     "execution_count": 30,
     "metadata": {},
     "output_type": "execute_result"
    }
   ],
   "source": [
    "data['reviews'][1]"
   ]
  },
  {
   "cell_type": "code",
   "execution_count": 31,
   "metadata": {
    "execution": {
     "iopub.execute_input": "2021-06-12T17:17:47.730472Z",
     "iopub.status.busy": "2021-06-12T17:17:47.730226Z",
     "iopub.status.idle": "2021-06-12T17:17:47.750713Z",
     "shell.execute_reply": "2021-06-12T17:17:47.749746Z",
     "shell.execute_reply.started": "2021-06-12T17:17:47.730427Z"
    }
   },
   "outputs": [],
   "source": [
    "# заменим пропуски случайным значением, добавим дату для дальнейшего отслеживания пропуска\n",
    "data['reviews'] = data['reviews'].fillna('qwe')"
   ]
  },
  {
   "cell_type": "code",
   "execution_count": 32,
   "metadata": {
    "execution": {
     "iopub.execute_input": "2021-06-12T17:17:47.753678Z",
     "iopub.status.busy": "2021-06-12T17:17:47.752861Z",
     "iopub.status.idle": "2021-06-12T17:17:47.803441Z",
     "shell.execute_reply": "2021-06-12T17:17:47.802024Z",
     "shell.execute_reply.started": "2021-06-12T17:17:47.753610Z"
    }
   },
   "outputs": [
    {
     "name": "stdout",
     "output_type": "stream",
     "text": [
      "<class 'pandas.core.frame.DataFrame'>\n",
      "RangeIndex: 50000 entries, 0 to 49999\n",
      "Data columns (total 14 columns):\n",
      "restaurant_id              50000 non-null object\n",
      "city                       50000 non-null object\n",
      "cuisine_style              50000 non-null object\n",
      "ranking                    50000 non-null float64\n",
      "price_range                50000 non-null object\n",
      "number_of_reviews          50000 non-null float64\n",
      "reviews                    50000 non-null object\n",
      "url_ta                     50000 non-null object\n",
      "id_ta                      50000 non-null object\n",
      "sample                     50000 non-null int64\n",
      "rating                     50000 non-null float64\n",
      "cuisine_style_isNAN        50000 non-null uint8\n",
      "price_range_isNAN          50000 non-null uint8\n",
      "number_of_reviews_isNAN    50000 non-null uint8\n",
      "dtypes: float64(3), int64(1), object(7), uint8(3)\n",
      "memory usage: 4.3+ MB\n"
     ]
    }
   ],
   "source": [
    "# пропуски заполнены\n",
    "data.info()"
   ]
  },
  {
   "cell_type": "markdown",
   "metadata": {},
   "source": [
    "# 2. Визуализация"
   ]
  },
  {
   "cell_type": "markdown",
   "metadata": {},
   "source": [
    "### Посмотрим распределение признака"
   ]
  },
  {
   "cell_type": "code",
   "execution_count": 33,
   "metadata": {
    "execution": {
     "iopub.execute_input": "2021-06-12T13:53:30.584083Z",
     "iopub.status.busy": "2021-06-12T13:53:30.583705Z",
     "iopub.status.idle": "2021-06-12T13:53:31.0937Z",
     "shell.execute_reply": "2021-06-12T13:53:31.092958Z",
     "shell.execute_reply.started": "2021-06-12T13:53:30.584044Z"
    }
   },
   "outputs": [
    {
     "data": {
      "text/plain": [
       "<matplotlib.axes._subplots.AxesSubplot at 0x7fc41d6205f8>"
      ]
     },
     "execution_count": 33,
     "metadata": {},
     "output_type": "execute_result"
    },
    {
     "data": {
      "image/png": "[encoded data removed]",
      "text/plain": [
       "<Figure size 720x504 with 1 Axes>"
      ]
     },
     "metadata": {
      "needs_background": "light"
     },
     "output_type": "display_data"
    }
   ],
   "source": [
    "plt.rcParams['figure.figsize'] = (10,7)\n",
    "df_train['ranking'].hist(bins=100)"
   ]
  },
  {
   "cell_type": "markdown",
   "metadata": {},
   "source": [
    "У нас много ресторанов, которые не дотягивают и до 2500 места в своем городе, а что там по городам?"
   ]
  },
  {
   "cell_type": "code",
   "execution_count": 34,
   "metadata": {
    "execution": {
     "iopub.execute_input": "2021-06-12T13:53:32.304731Z",
     "iopub.status.busy": "2021-06-12T13:53:32.304096Z",
     "iopub.status.idle": "2021-06-12T13:53:32.767429Z",
     "shell.execute_reply": "2021-06-12T13:53:32.766237Z",
     "shell.execute_reply.started": "2021-06-12T13:53:32.304655Z"
    }
   },
   "outputs": [
    {
     "data": {
      "text/plain": [
       "<matplotlib.axes._subplots.AxesSubplot at 0x7fc41d47c6a0>"
      ]
     },
     "execution_count": 34,
     "metadata": {},
     "output_type": "execute_result"
    },
    {
     "data": {
      "image/png": "[encoded data removed]",
      "text/plain": [
       "<Figure size 720x504 with 1 Axes>"
      ]
     },
     "metadata": {
      "needs_background": "light"
     },
     "output_type": "display_data"
    }
   ],
   "source": [
    "df_train['city'].value_counts(ascending=True).plot(kind='barh')"
   ]
  },
  {
   "cell_type": "markdown",
   "metadata": {},
   "source": [
    "А кто-то говорил, что французы любят поесть=) Посмотрим, как изменится распределение в большом городе:"
   ]
  },
  {
   "cell_type": "code",
   "execution_count": 35,
   "metadata": {
    "execution": {
     "iopub.execute_input": "2021-06-12T13:53:35.20138Z",
     "iopub.status.busy": "2021-06-12T13:53:35.200814Z",
     "iopub.status.idle": "2021-06-12T13:53:35.735722Z",
     "shell.execute_reply": "2021-06-12T13:53:35.734162Z",
     "shell.execute_reply.started": "2021-06-12T13:53:35.2013Z"
    }
   },
   "outputs": [
    {
     "data": {
      "text/plain": [
       "<matplotlib.axes._subplots.AxesSubplot at 0x7fc41d387ef0>"
      ]
     },
     "execution_count": 35,
     "metadata": {},
     "output_type": "execute_result"
    },
    {
     "data": {
      "image/png": "[encoded data removed]",
      "text/plain": [
       "<Figure size 720x504 with 1 Axes>"
      ]
     },
     "metadata": {
      "needs_background": "light"
     },
     "output_type": "display_data"
    }
   ],
   "source": [
    "df_train['ranking'][df_train['city'] =='London'].hist(bins=100)"
   ]
  },
  {
   "cell_type": "code",
   "execution_count": 36,
   "metadata": {
    "execution": {
     "iopub.execute_input": "2021-06-12T13:53:35.739077Z",
     "iopub.status.busy": "2021-06-12T13:53:35.738637Z",
     "iopub.status.idle": "2021-06-12T13:53:38.640795Z",
     "shell.execute_reply": "2021-06-12T13:53:38.63875Z",
     "shell.execute_reply.started": "2021-06-12T13:53:35.739019Z"
    }
   },
   "outputs": [
    {
     "data": {
      "image/png": "[encoded data removed]",
      "text/plain": [
       "<Figure size 720x504 with 1 Axes>"
      ]
     },
     "metadata": {
      "needs_background": "light"
     },
     "output_type": "display_data"
    }
   ],
   "source": [
    "# посмотрим на топ 10 городов\n",
    "for x in (df_train['city'].value_counts())[0:10].index:\n",
    "    df_train['ranking'][df_train['city'] == x].hist(bins=100)\n",
    "plt.show()"
   ]
  },
  {
   "cell_type": "markdown",
   "metadata": {},
   "source": [
    "Получается, что Ranking имеет нормальное распределение, просто в больших городах больше ресторанов, из-за этого мы имеем смещение.\n",
    "\n",
    ">Подумайте как из этого можно сделать признак для вашей модели. Я покажу вам пример, как визуализация помогает находить взаимосвязи. А далее действуйте без подсказок =) \n"
   ]
  },
  {
   "cell_type": "markdown",
   "metadata": {},
   "source": [
    "### Посмотрим распределение целевой переменной"
   ]
  },
  {
   "cell_type": "code",
   "execution_count": 37,
   "metadata": {
    "execution": {
     "iopub.execute_input": "2021-06-12T13:53:38.64393Z",
     "iopub.status.busy": "2021-06-12T13:53:38.643259Z",
     "iopub.status.idle": "2021-06-12T13:53:38.956227Z",
     "shell.execute_reply": "2021-06-12T13:53:38.955036Z",
     "shell.execute_reply.started": "2021-06-12T13:53:38.64386Z"
    }
   },
   "outputs": [
    {
     "data": {
      "text/plain": [
       "<matplotlib.axes._subplots.AxesSubplot at 0x7fc40378b320>"
      ]
     },
     "execution_count": 37,
     "metadata": {},
     "output_type": "execute_result"
    },
    {
     "data": {
      "image/png": "[encoded data removed]",
      "text/plain": [
       "<Figure size 720x504 with 1 Axes>"
      ]
     },
     "metadata": {
      "needs_background": "light"
     },
     "output_type": "display_data"
    }
   ],
   "source": [
    "df_train['rating'].value_counts(ascending=True).plot(kind='barh')"
   ]
  },
  {
   "cell_type": "markdown",
   "metadata": {},
   "source": [
    "### Посмотрим распределение целевой переменной относительно признака"
   ]
  },
  {
   "cell_type": "code",
   "execution_count": 38,
   "metadata": {
    "execution": {
     "iopub.execute_input": "2021-06-12T13:53:48.609114Z",
     "iopub.status.busy": "2021-06-12T13:53:48.608668Z",
     "iopub.status.idle": "2021-06-12T13:53:49.192197Z",
     "shell.execute_reply": "2021-06-12T13:53:49.190351Z",
     "shell.execute_reply.started": "2021-06-12T13:53:48.60907Z"
    }
   },
   "outputs": [
    {
     "data": {
      "text/plain": [
       "<matplotlib.axes._subplots.AxesSubplot at 0x7fc41d261898>"
      ]
     },
     "execution_count": 38,
     "metadata": {},
     "output_type": "execute_result"
    },
    {
     "data": {
      "image/png": "[encoded data removed]",
      "text/plain": [
       "<Figure size 720x504 with 1 Axes>"
      ]
     },
     "metadata": {
      "needs_background": "light"
     },
     "output_type": "display_data"
    }
   ],
   "source": [
    "df_train['ranking'][df_train['rating'] == 5].hist(bins=100)"
   ]
  },
  {
   "cell_type": "code",
   "execution_count": 39,
   "metadata": {
    "execution": {
     "iopub.execute_input": "2021-06-12T13:53:49.297211Z",
     "iopub.status.busy": "2021-06-12T13:53:49.296696Z",
     "iopub.status.idle": "2021-06-12T13:53:49.859183Z",
     "shell.execute_reply": "2021-06-12T13:53:49.857805Z",
     "shell.execute_reply.started": "2021-06-12T13:53:49.297163Z"
    }
   },
   "outputs": [
    {
     "data": {
      "text/plain": [
       "<matplotlib.axes._subplots.AxesSubplot at 0x7fc401509978>"
      ]
     },
     "execution_count": 39,
     "metadata": {},
     "output_type": "execute_result"
    },
    {
     "data": {
      "image/png": "[encoded data removed]",
      "text/plain": [
       "<Figure size 720x504 with 1 Axes>"
      ]
     },
     "metadata": {
      "needs_background": "light"
     },
     "output_type": "display_data"
    }
   ],
   "source": [
    "df_train['ranking'][df_train['rating'] < 4].hist(bins=100)"
   ]
  },
  {
   "cell_type": "markdown",
   "metadata": {},
   "source": [
    "### Корреляция признаков\n",
    "На этом графике уже сейчас вы сможете заметить, как признаки связаны между собой и с целевой переменной."
   ]
  },
  {
   "cell_type": "code",
   "execution_count": 40,
   "metadata": {
    "execution": {
     "iopub.execute_input": "2021-06-12T13:53:54.567964Z",
     "iopub.status.busy": "2021-06-12T13:53:54.56741Z",
     "iopub.status.idle": "2021-06-12T13:53:55.250827Z",
     "shell.execute_reply": "2021-06-12T13:53:55.249023Z",
     "shell.execute_reply.started": "2021-06-12T13:53:54.567913Z"
    }
   },
   "outputs": [
    {
     "data": {
      "text/plain": [
       "<matplotlib.axes._subplots.AxesSubplot at 0x7fc400bfb5f8>"
      ]
     },
     "execution_count": 40,
     "metadata": {},
     "output_type": "execute_result"
    },
    {
     "data": {
      "image/png": "[encoded data removed]",
      "text/plain": [
       "<Figure size 1080x720 with 2 Axes>"
      ]
     },
     "metadata": {
      "needs_background": "light"
     },
     "output_type": "display_data"
    }
   ],
   "source": [
    "plt.rcParams['figure.figsize'] = (15,10)\n",
    "sns.heatmap(data.drop(['sample'], axis=1).corr(),)"
   ]
  },
  {
   "cell_type": "markdown",
   "metadata": {},
   "source": [
    "Одна из сильнейших положительных корреляций наблюдается между наличием пропусков в признаках 'cuisine_style' и 'prace_range'"
   ]
  },
  {
   "cell_type": "markdown",
   "metadata": {
    "execution": {
     "iopub.execute_input": "2021-06-05T11:58:01.767483Z",
     "iopub.status.busy": "2021-06-05T11:58:01.767126Z",
     "iopub.status.idle": "2021-06-05T11:58:01.771899Z",
     "shell.execute_reply": "2021-06-05T11:58:01.77092Z",
     "shell.execute_reply.started": "2021-06-05T11:58:01.767419Z"
    }
   },
   "source": [
    "# 3. Создаем новые признаки"
   ]
  },
  {
   "cell_type": "markdown",
   "metadata": {},
   "source": [
    "## 3.1 Создаем признак, показывающий количество кухни в ресторане"
   ]
  },
  {
   "cell_type": "code",
   "execution_count": 41,
   "metadata": {
    "execution": {
     "iopub.execute_input": "2021-06-12T17:17:55.341009Z",
     "iopub.status.busy": "2021-06-12T17:17:55.340594Z",
     "iopub.status.idle": "2021-06-12T17:17:55.347066Z",
     "shell.execute_reply": "2021-06-12T17:17:55.346247Z",
     "shell.execute_reply.started": "2021-06-12T17:17:55.340944Z"
    }
   },
   "outputs": [
    {
     "data": {
      "text/plain": [
       "\"['Bar', 'Pub']\""
      ]
     },
     "execution_count": 41,
     "metadata": {},
     "output_type": "execute_result"
    }
   ],
   "source": [
    "data.cuisine_style[0]"
   ]
  },
  {
   "cell_type": "code",
   "execution_count": 42,
   "metadata": {
    "execution": {
     "iopub.execute_input": "2021-06-12T17:17:55.661939Z",
     "iopub.status.busy": "2021-06-12T17:17:55.661472Z",
     "iopub.status.idle": "2021-06-12T17:17:55.668404Z",
     "shell.execute_reply": "2021-06-12T17:17:55.667156Z",
     "shell.execute_reply.started": "2021-06-12T17:17:55.661878Z"
    }
   },
   "outputs": [
    {
     "data": {
      "text/plain": [
       "str"
      ]
     },
     "execution_count": 42,
     "metadata": {},
     "output_type": "execute_result"
    }
   ],
   "source": [
    "type(data.cuisine_style[0])"
   ]
  },
  {
   "cell_type": "code",
   "execution_count": 43,
   "metadata": {
    "execution": {
     "iopub.execute_input": "2021-06-12T17:17:59.323686Z",
     "iopub.status.busy": "2021-06-12T17:17:59.323012Z",
     "iopub.status.idle": "2021-06-12T17:18:17.372271Z",
     "shell.execute_reply": "2021-06-12T17:18:17.371181Z",
     "shell.execute_reply.started": "2021-06-12T17:17:59.323613Z"
    }
   },
   "outputs": [],
   "source": [
    "regex = re.compile('[a-zA-Z]+')  #  составим регулярку для поиска\n",
    "\n",
    "'''преобразуем строку кухни в список'''\n",
    "for i in range(len(data)):\n",
    "    data['cuisine_style'][i] = re.findall(regex, data['cuisine_style'][i])"
   ]
  },
  {
   "cell_type": "code",
   "execution_count": 44,
   "metadata": {
    "execution": {
     "iopub.execute_input": "2021-06-12T17:18:17.374854Z",
     "iopub.status.busy": "2021-06-12T17:18:17.374498Z",
     "iopub.status.idle": "2021-06-12T17:18:17.382708Z",
     "shell.execute_reply": "2021-06-12T17:18:17.381314Z",
     "shell.execute_reply.started": "2021-06-12T17:18:17.374790Z"
    }
   },
   "outputs": [
    {
     "data": {
      "text/plain": [
       "list"
      ]
     },
     "execution_count": 44,
     "metadata": {},
     "output_type": "execute_result"
    }
   ],
   "source": [
    "type(data.cuisine_style[0])"
   ]
  },
  {
   "cell_type": "code",
   "execution_count": 45,
   "metadata": {
    "execution": {
     "iopub.execute_input": "2021-06-12T17:18:17.385906Z",
     "iopub.status.busy": "2021-06-12T17:18:17.385125Z",
     "iopub.status.idle": "2021-06-12T17:18:17.955572Z",
     "shell.execute_reply": "2021-06-12T17:18:17.953760Z",
     "shell.execute_reply.started": "2021-06-12T17:18:17.385509Z"
    }
   },
   "outputs": [
    {
     "data": {
      "text/plain": [
       "0    Paris\n",
       "0    Paris\n",
       "Name: city, dtype: object"
      ]
     },
     "execution_count": 45,
     "metadata": {},
     "output_type": "execute_result"
    }
   ],
   "source": [
    "# создадим копию датасета, он нам поможет с заменой пропусков в \"cuisine_style\"\n",
    "data2 =data.explode('cuisine_style').copy()\n",
    "data2['city'][0]"
   ]
  },
  {
   "cell_type": "code",
   "execution_count": 46,
   "metadata": {
    "execution": {
     "iopub.execute_input": "2021-06-12T17:18:17.957805Z",
     "iopub.status.busy": "2021-06-12T17:18:17.957455Z",
     "iopub.status.idle": "2021-06-12T17:24:47.110294Z",
     "shell.execute_reply": "2021-06-12T17:24:47.108838Z",
     "shell.execute_reply.started": "2021-06-12T17:18:17.957737Z"
    }
   },
   "outputs": [],
   "source": [
    "# заменяем наше временное значение \"Russ\" в столбце \"cuisine_style\" на самое распространенное по стране\n",
    "# если самое распространенное это \"Russ\", то ставим \"European\"\n",
    "for i in range(len(data)):\n",
    "    if data['cuisine_style'][i][0] == 'Russ':\n",
    "        data['cuisine_style'][i] = data2[data2['city'] == data['city'][i]]['cuisine_style'].value_counts().index[0]\n",
    "    \n",
    "    if data['cuisine_style'][i] == 'Russ':\n",
    "        data['cuisine_style'][i] = 'European'"
   ]
  },
  {
   "cell_type": "code",
   "execution_count": 47,
   "metadata": {
    "execution": {
     "iopub.execute_input": "2021-06-12T17:24:47.114740Z",
     "iopub.status.busy": "2021-06-12T17:24:47.114405Z",
     "iopub.status.idle": "2021-06-12T17:24:47.135872Z",
     "shell.execute_reply": "2021-06-12T17:24:47.133963Z",
     "shell.execute_reply.started": "2021-06-12T17:24:47.114697Z"
    }
   },
   "outputs": [
    {
     "data": {
      "text/plain": [
       "0"
      ]
     },
     "execution_count": 47,
     "metadata": {},
     "output_type": "execute_result"
    }
   ],
   "source": [
    "# проверим, осталось ли где-то временное значение \"Russian\"\n",
    "len(data[data['cuisine_style'] == 'Russ'])"
   ]
  },
  {
   "cell_type": "code",
   "execution_count": 48,
   "metadata": {
    "execution": {
     "iopub.execute_input": "2021-06-12T17:24:47.142187Z",
     "iopub.status.busy": "2021-06-12T17:24:47.141721Z",
     "iopub.status.idle": "2021-06-12T17:24:47.171105Z",
     "shell.execute_reply": "2021-06-12T17:24:47.168924Z",
     "shell.execute_reply.started": "2021-06-12T17:24:47.142108Z"
    }
   },
   "outputs": [],
   "source": [
    "# создадим список всей кухни\n",
    "all_cuisine = pd.Series(data2['cuisine_style'].unique())\n"
   ]
  },
  {
   "cell_type": "code",
   "execution_count": 49,
   "metadata": {
    "execution": {
     "iopub.execute_input": "2021-06-12T17:24:47.174144Z",
     "iopub.status.busy": "2021-06-12T17:24:47.173571Z",
     "iopub.status.idle": "2021-06-12T17:25:01.056465Z",
     "shell.execute_reply": "2021-06-12T17:25:01.055525Z",
     "shell.execute_reply.started": "2021-06-12T17:24:47.174040Z"
    }
   },
   "outputs": [
    {
     "data": {
      "text/html": [
       "<div>\n",
       "<style scoped>\n",
       "    .dataframe tbody tr th:only-of-type {\n",
       "        vertical-align: middle;\n",
       "    }\n",
       "\n",
       "    .dataframe tbody tr th {\n",
       "        vertical-align: top;\n",
       "    }\n",
       "\n",
       "    .dataframe thead th {\n",
       "        text-align: right;\n",
       "    }\n",
       "</style>\n",
       "<table border=\"1\" class=\"dataframe\">\n",
       "  <thead>\n",
       "    <tr style=\"text-align: right;\">\n",
       "      <th></th>\n",
       "      <th>restaurant_id</th>\n",
       "      <th>city</th>\n",
       "      <th>cuisine_style</th>\n",
       "      <th>ranking</th>\n",
       "      <th>price_range</th>\n",
       "      <th>number_of_reviews</th>\n",
       "      <th>reviews</th>\n",
       "      <th>url_ta</th>\n",
       "      <th>id_ta</th>\n",
       "      <th>sample</th>\n",
       "      <th>rating</th>\n",
       "      <th>cuisine_style_isNAN</th>\n",
       "      <th>price_range_isNAN</th>\n",
       "      <th>number_of_reviews_isNAN</th>\n",
       "      <th>cuisine_size</th>\n",
       "    </tr>\n",
       "  </thead>\n",
       "  <tbody>\n",
       "    <tr>\n",
       "      <th>0</th>\n",
       "      <td>id_0</td>\n",
       "      <td>Paris</td>\n",
       "      <td>[Bar, Pub]</td>\n",
       "      <td>12963.0</td>\n",
       "      <td>2</td>\n",
       "      <td>4.0</td>\n",
       "      <td>[[], []]</td>\n",
       "      <td>/Restaurant_Review-g187147-d10746918-Reviews-L...</td>\n",
       "      <td>d10746918</td>\n",
       "      <td>0</td>\n",
       "      <td>0.0</td>\n",
       "      <td>0</td>\n",
       "      <td>0</td>\n",
       "      <td>0</td>\n",
       "      <td>2</td>\n",
       "    </tr>\n",
       "    <tr>\n",
       "      <th>1</th>\n",
       "      <td>id_1</td>\n",
       "      <td>Helsinki</td>\n",
       "      <td>[European, Scandinavian, Gluten, Free, Options...</td>\n",
       "      <td>106.0</td>\n",
       "      <td>2</td>\n",
       "      <td>97.0</td>\n",
       "      <td>[['Very good reviews!', 'Fine dining in Hakani...</td>\n",
       "      <td>/Restaurant_Review-g189934-d6674944-Reviews-Ra...</td>\n",
       "      <td>d6674944</td>\n",
       "      <td>0</td>\n",
       "      <td>0.0</td>\n",
       "      <td>0</td>\n",
       "      <td>0</td>\n",
       "      <td>0</td>\n",
       "      <td>9</td>\n",
       "    </tr>\n",
       "    <tr>\n",
       "      <th>2</th>\n",
       "      <td>id_2</td>\n",
       "      <td>Edinburgh</td>\n",
       "      <td>[Vegetarian, Friendly]</td>\n",
       "      <td>810.0</td>\n",
       "      <td>2</td>\n",
       "      <td>28.0</td>\n",
       "      <td>[['Better than the Links', 'Ivy Black'], ['12/...</td>\n",
       "      <td>/Restaurant_Review-g186525-d13129638-Reviews-B...</td>\n",
       "      <td>d13129638</td>\n",
       "      <td>0</td>\n",
       "      <td>0.0</td>\n",
       "      <td>0</td>\n",
       "      <td>0</td>\n",
       "      <td>0</td>\n",
       "      <td>2</td>\n",
       "    </tr>\n",
       "    <tr>\n",
       "      <th>3</th>\n",
       "      <td>id_3</td>\n",
       "      <td>London</td>\n",
       "      <td>[Italian, Mediterranean, European, Vegetarian,...</td>\n",
       "      <td>1669.0</td>\n",
       "      <td>3</td>\n",
       "      <td>202.0</td>\n",
       "      <td>[['Most exquisite', 'Delicious and authentic']...</td>\n",
       "      <td>/Restaurant_Review-g186338-d680417-Reviews-Qui...</td>\n",
       "      <td>d680417</td>\n",
       "      <td>0</td>\n",
       "      <td>0.0</td>\n",
       "      <td>0</td>\n",
       "      <td>0</td>\n",
       "      <td>0</td>\n",
       "      <td>8</td>\n",
       "    </tr>\n",
       "    <tr>\n",
       "      <th>4</th>\n",
       "      <td>id_4</td>\n",
       "      <td>Bratislava</td>\n",
       "      <td>[Italian, Mediterranean, European, Seafood, Ve...</td>\n",
       "      <td>37.0</td>\n",
       "      <td>3</td>\n",
       "      <td>162.0</td>\n",
       "      <td>[['Always the best in bratislava', 'Very good ...</td>\n",
       "      <td>/Restaurant_Review-g274924-d1112354-Reviews-Ma...</td>\n",
       "      <td>d1112354</td>\n",
       "      <td>0</td>\n",
       "      <td>0.0</td>\n",
       "      <td>0</td>\n",
       "      <td>0</td>\n",
       "      <td>0</td>\n",
       "      <td>9</td>\n",
       "    </tr>\n",
       "  </tbody>\n",
       "</table>\n",
       "</div>"
      ],
      "text/plain": [
       "  restaurant_id        city  \\\n",
       "0          id_0       Paris   \n",
       "1          id_1    Helsinki   \n",
       "2          id_2   Edinburgh   \n",
       "3          id_3      London   \n",
       "4          id_4  Bratislava   \n",
       "\n",
       "                                       cuisine_style  ranking price_range  \\\n",
       "0                                         [Bar, Pub]  12963.0           2   \n",
       "1  [European, Scandinavian, Gluten, Free, Options...    106.0           2   \n",
       "2                             [Vegetarian, Friendly]    810.0           2   \n",
       "3  [Italian, Mediterranean, European, Vegetarian,...   1669.0           3   \n",
       "4  [Italian, Mediterranean, European, Seafood, Ve...     37.0           3   \n",
       "\n",
       "   number_of_reviews                                            reviews  \\\n",
       "0                4.0                                           [[], []]   \n",
       "1               97.0  [['Very good reviews!', 'Fine dining in Hakani...   \n",
       "2               28.0  [['Better than the Links', 'Ivy Black'], ['12/...   \n",
       "3              202.0  [['Most exquisite', 'Delicious and authentic']...   \n",
       "4              162.0  [['Always the best in bratislava', 'Very good ...   \n",
       "\n",
       "                                              url_ta      id_ta  sample  \\\n",
       "0  /Restaurant_Review-g187147-d10746918-Reviews-L...  d10746918       0   \n",
       "1  /Restaurant_Review-g189934-d6674944-Reviews-Ra...   d6674944       0   \n",
       "2  /Restaurant_Review-g186525-d13129638-Reviews-B...  d13129638       0   \n",
       "3  /Restaurant_Review-g186338-d680417-Reviews-Qui...    d680417       0   \n",
       "4  /Restaurant_Review-g274924-d1112354-Reviews-Ma...   d1112354       0   \n",
       "\n",
       "   rating  cuisine_style_isNAN  price_range_isNAN  number_of_reviews_isNAN  \\\n",
       "0     0.0                    0                  0                        0   \n",
       "1     0.0                    0                  0                        0   \n",
       "2     0.0                    0                  0                        0   \n",
       "3     0.0                    0                  0                        0   \n",
       "4     0.0                    0                  0                        0   \n",
       "\n",
       "  cuisine_size  \n",
       "0            2  \n",
       "1            9  \n",
       "2            2  \n",
       "3            8  \n",
       "4            9  "
      ]
     },
     "execution_count": 49,
     "metadata": {},
     "output_type": "execute_result"
    }
   ],
   "source": [
    "# создаем новый признак, показывающий разнообразие кухни в ресторане\n",
    "\n",
    "data['cuisine_size'] = None\n",
    "for i in range(len(data)):\n",
    "    data['cuisine_size'][i] = len(data['cuisine_style'][i])\n",
    "data.head()"
   ]
  },
  {
   "cell_type": "markdown",
   "metadata": {},
   "source": [
    "## 3.2 Создаем столбец, показывающий страну в которой находится ресторан."
   ]
  },
  {
   "cell_type": "code",
   "execution_count": 50,
   "metadata": {
    "execution": {
     "iopub.execute_input": "2021-06-12T17:25:01.058472Z",
     "iopub.status.busy": "2021-06-12T17:25:01.058162Z",
     "iopub.status.idle": "2021-06-12T17:25:01.068692Z",
     "shell.execute_reply": "2021-06-12T17:25:01.067648Z",
     "shell.execute_reply.started": "2021-06-12T17:25:01.058416Z"
    }
   },
   "outputs": [],
   "source": [
    "# составим словарь, где разобьем города по странам\n",
    "cities = {'United Kingdom' : ['London', 'Edinburgh'],\n",
    "    'France': ['Paris', 'Lyon'],\n",
    "    'Spain': ['Madrid', 'Barcelona'],\n",
    "    'Germany': ['Berlin', 'Hamburg', 'Munich'],\n",
    "    'Italy': ['Milan', 'Rome'],\n",
    "    'Czech Republic': ['Prague'],\n",
    "    'Portugal': ['Prague', 'Oporto', 'Lisbon'],\n",
    "    'Austria': ['Vienna'],\n",
    "    'Netherlands': ['Amsterdam'],\n",
    "    'Belgium': ['Brussels'],\n",
    "    'Sweden': ['Stockholm'],\n",
    "    'Hungary': ['Budapest'],\n",
    "    'Poland': ['Warsaw', 'Krakow'],\n",
    "    'Ireland': ['Dublin'],\n",
    "    'Denmark': ['Copenhagen'],\n",
    "    'Greece': ['Athens'],\n",
    "    'Switzerland': ['Zurich', 'Geneva'],\n",
    "    'Norway': ['Oslo'],\n",
    "    'Finland': ['Helsinki'],\n",
    "    'Slovakia': ['Bratislava'],\n",
    "    'Luxembourg': ['Luxembourg'],\n",
    "    'Slovenia': ['Ljubljana']\n",
    "       }"
   ]
  },
  {
   "cell_type": "code",
   "execution_count": 51,
   "metadata": {
    "execution": {
     "iopub.execute_input": "2021-06-12T17:25:01.071999Z",
     "iopub.status.busy": "2021-06-12T17:25:01.071466Z",
     "iopub.status.idle": "2021-06-12T17:25:34.081656Z",
     "shell.execute_reply": "2021-06-12T17:25:34.080508Z",
     "shell.execute_reply.started": "2021-06-12T17:25:01.071905Z"
    }
   },
   "outputs": [],
   "source": [
    "\n",
    "# теперь создадим столбец со страной города\n",
    "data['country'] = None\n",
    "for i in range(len(data)):\n",
    "    for z in cities:\n",
    "        if data['city'][i] in cities[z]:\n",
    "            data['country'][i] = z"
   ]
  },
  {
   "cell_type": "markdown",
   "metadata": {},
   "source": [
    "## 3.3 Создаем столбец, показывающий уровень счастья населения по странам"
   ]
  },
  {
   "cell_type": "code",
   "execution_count": 52,
   "metadata": {
    "execution": {
     "iopub.execute_input": "2021-06-12T17:25:34.083696Z",
     "iopub.status.busy": "2021-06-12T17:25:34.083378Z",
     "iopub.status.idle": "2021-06-12T17:25:34.091950Z",
     "shell.execute_reply": "2021-06-12T17:25:34.090549Z",
     "shell.execute_reply.started": "2021-06-12T17:25:34.083641Z"
    }
   },
   "outputs": [],
   "source": [
    "'''Рейтинг стран мира по уровню счастья населения'''\n",
    "whr_list = { 'Norway': 7.537,\n",
    "    'Denmark': 7.522,\n",
    "    'Switzerland': 7.494,\n",
    "    'Finland': 7.469,\n",
    "    'Netherlands': 7.377,\n",
    "    'Sweden': 7.284,\n",
    "    'Ireland': 6.977,\n",
    "    'Germany': 6.951,\n",
    "    'Belgium': 6.891,\n",
    "    'Luxembourg': 6.863,\n",
    "    'United Kingdom': 6.714,\n",
    "    'Czech Republic': 6.609,\n",
    "    'France': 6.442,\n",
    "    'Spain': 6.403,\n",
    "    'Slovakia': 6.098,\n",
    "    'Italy': 5.964,\n",
    "    'Slovenia': 5.758,\n",
    "    'Greece': 5.227,\n",
    "    'Hungary': 5.324,\n",
    "    'Portugal': 5.195,\n",
    "    'Austria': 7.006,\n",
    "    'Poland': 5.973,\n",
    "      }       \n"
   ]
  },
  {
   "cell_type": "code",
   "execution_count": 53,
   "metadata": {
    "execution": {
     "iopub.execute_input": "2021-06-12T17:25:34.094601Z",
     "iopub.status.busy": "2021-06-12T17:25:34.094165Z",
     "iopub.status.idle": "2021-06-12T17:26:06.204951Z",
     "shell.execute_reply": "2021-06-12T17:26:06.203721Z",
     "shell.execute_reply.started": "2021-06-12T17:25:34.094503Z"
    }
   },
   "outputs": [
    {
     "data": {
      "text/plain": [
       "0        6.442\n",
       "1        7.469\n",
       "2        6.714\n",
       "3        6.714\n",
       "4        6.098\n",
       "         ...  \n",
       "49995    5.964\n",
       "49996    6.442\n",
       "49997    7.284\n",
       "49998    5.973\n",
       "49999    5.964\n",
       "Name: whr, Length: 50000, dtype: object"
      ]
     },
     "execution_count": 53,
     "metadata": {},
     "output_type": "execute_result"
    }
   ],
   "source": [
    "# создаем столбец показывающий уровень счастья по стране\n",
    "data['whr'] = None\n",
    "for i in range(len(data)):\n",
    "    for z in whr_list:     \n",
    "        if data['country'][i] == z:\n",
    "            data['whr'][i] = whr_list[z]\n",
    "data['whr']"
   ]
  },
  {
   "cell_type": "markdown",
   "metadata": {},
   "source": [
    "## 3.4 Создаем признак, показывающий дату отзывов"
   ]
  },
  {
   "cell_type": "code",
   "execution_count": 54,
   "metadata": {
    "execution": {
     "iopub.execute_input": "2021-06-12T17:26:06.207167Z",
     "iopub.status.busy": "2021-06-12T17:26:06.206684Z",
     "iopub.status.idle": "2021-06-12T17:26:06.269110Z",
     "shell.execute_reply": "2021-06-12T17:26:06.268091Z",
     "shell.execute_reply.started": "2021-06-12T17:26:06.207080Z"
    }
   },
   "outputs": [],
   "source": [
    "# некотрые даты записаны некорректно, лучше исправить это заранее\n",
    "data['reviews'] = data['reviews'].apply(lambda x: x.replace('.', '/'))\n",
    "data['reviews'] = data['reviews'].apply(lambda x: x.replace('21/12/2017', '12/21/2017'))"
   ]
  },
  {
   "cell_type": "code",
   "execution_count": 55,
   "metadata": {
    "execution": {
     "iopub.execute_input": "2021-06-12T17:26:06.271062Z",
     "iopub.status.busy": "2021-06-12T17:26:06.270718Z",
     "iopub.status.idle": "2021-06-12T17:26:27.219020Z",
     "shell.execute_reply": "2021-06-12T17:26:27.218041Z",
     "shell.execute_reply.started": "2021-06-12T17:26:06.271006Z"
    }
   },
   "outputs": [
    {
     "data": {
      "text/plain": [
       "0        [12/01/2017, 12/01/2017]\n",
       "1        [12/05/2017, 10/29/2017]\n",
       "2        [12/28/2017, 12/06/2017]\n",
       "3        [12/06/2017, 11/22/2017]\n",
       "4        [02/08/2018, 01/24/2018]\n",
       "                   ...           \n",
       "49995    [12/16/2017, 11/12/2017]\n",
       "49996    [12/21/2017, 12/12/2017]\n",
       "49997    [11/03/2016, 04/12/2008]\n",
       "49998    [07/11/2017, 06/18/2017]\n",
       "49999    [01/31/2016, 07/04/2012]\n",
       "Name: time, Length: 50000, dtype: object"
      ]
     },
     "execution_count": 55,
     "metadata": {},
     "output_type": "execute_result"
    }
   ],
   "source": [
    "# выделим время в отдельные столбцы\n",
    "# составим регулярку для поиска\n",
    "regex = re.compile('[0-9]{2}.[0-9]{2}.[0-9]{4}')\n",
    "\n",
    "data['time'] = None\n",
    "'''Находиит в признаке дату и переносит ее в признак \"time\" с \n",
    "соответствующим индексом, если ее нет, ставит свою \"12/01/2017\"'''\n",
    "for i in range(len(data)):\n",
    "    if len(data['reviews'][i]) < 10:\n",
    "        data['time'][i]= ['12/01/2017', '12/01/2017']  \n",
    "        # данный год был выбран из-за преобладания количества отзывов\n",
    "    else:\n",
    "        data['time'][i]= re.findall(regex, data['reviews'][i])\n",
    "data['time']"
   ]
  },
  {
   "cell_type": "code",
   "execution_count": 56,
   "metadata": {
    "execution": {
     "iopub.execute_input": "2021-06-12T17:26:27.221640Z",
     "iopub.status.busy": "2021-06-12T17:26:27.221231Z",
     "iopub.status.idle": "2021-06-12T17:26:28.908110Z",
     "shell.execute_reply": "2021-06-12T17:26:28.906847Z",
     "shell.execute_reply.started": "2021-06-12T17:26:27.221575Z"
    }
   },
   "outputs": [],
   "source": [
    "# в некоторых отзывах было по 1 дате, исправим это\n",
    "for i in range(len(data)):\n",
    "    if len(data['time'][i]) == 1:\n",
    "        data['time'][i].append(data['time'][i][0])"
   ]
  },
  {
   "cell_type": "code",
   "execution_count": 57,
   "metadata": {
    "execution": {
     "iopub.execute_input": "2021-06-12T17:26:28.910847Z",
     "iopub.status.busy": "2021-06-12T17:26:28.910442Z",
     "iopub.status.idle": "2021-06-12T17:27:08.526734Z",
     "shell.execute_reply": "2021-06-12T17:27:08.525331Z",
     "shell.execute_reply.started": "2021-06-12T17:26:28.910793Z"
    }
   },
   "outputs": [],
   "source": [
    "# разделим признак со временем на два, преобразуя каждый в datetime\n",
    "data['time_one'] = None\n",
    "data['time_two'] = None\n",
    "for i in range(len(data)):\n",
    "    data['time_one'][i] = datetime.strptime(data['time'][i][0], '%m/%d/%Y')\n",
    "    data['time_two'][i] = datetime.strptime(data['time'][i][1], '%m/%d/%Y')\n"
   ]
  },
  {
   "cell_type": "code",
   "execution_count": 58,
   "metadata": {
    "execution": {
     "iopub.execute_input": "2021-06-12T17:27:08.528489Z",
     "iopub.status.busy": "2021-06-12T17:27:08.528245Z",
     "iopub.status.idle": "2021-06-12T17:27:08.535843Z",
     "shell.execute_reply": "2021-06-12T17:27:08.534510Z",
     "shell.execute_reply.started": "2021-06-12T17:27:08.528452Z"
    }
   },
   "outputs": [
    {
     "data": {
      "text/plain": [
       "datetime.datetime(2017, 12, 1, 0, 0)"
      ]
     },
     "execution_count": 58,
     "metadata": {},
     "output_type": "execute_result"
    }
   ],
   "source": [
    "data['time_one'][0]"
   ]
  },
  {
   "cell_type": "code",
   "execution_count": 59,
   "metadata": {
    "execution": {
     "iopub.execute_input": "2021-06-12T17:27:08.537528Z",
     "iopub.status.busy": "2021-06-12T17:27:08.537267Z",
     "iopub.status.idle": "2021-06-12T17:28:40.443062Z",
     "shell.execute_reply": "2021-06-12T17:28:40.442023Z",
     "shell.execute_reply.started": "2021-06-12T17:27:08.537484Z"
    }
   },
   "outputs": [],
   "source": [
    "# создаем столбцы отражающие год, месяц, день отзывов\n",
    "data['year_one'] = None\n",
    "data['month_one'] = None\n",
    "data['day_one'] = None\n",
    "data['year_two'] = None\n",
    "data['month_two'] = None\n",
    "data['day_two'] = None\n",
    "\n",
    "for i in range(len(data)):\n",
    "    data['year_one'][i] = data['time_one'][i].year\n",
    "    data['month_one'][i] = data['time_one'][i].month\n",
    "    data['day_one'][i] = data['time_one'][i].day\n",
    "    data['year_two'][i] = data['time_two'][i].year\n",
    "    data['month_two'][i] = data['time_two'][i].month\n",
    "    data['day_two'][i] = data['time_two'][i].day"
   ]
  },
  {
   "cell_type": "code",
   "execution_count": 60,
   "metadata": {
    "execution": {
     "iopub.execute_input": "2021-06-12T17:28:40.445200Z",
     "iopub.status.busy": "2021-06-12T17:28:40.444862Z",
     "iopub.status.idle": "2021-06-12T17:28:40.452231Z",
     "shell.execute_reply": "2021-06-12T17:28:40.451383Z",
     "shell.execute_reply.started": "2021-06-12T17:28:40.445142Z"
    }
   },
   "outputs": [
    {
     "data": {
      "text/plain": [
       "Index(['restaurant_id', 'city', 'cuisine_style', 'ranking', 'price_range',\n",
       "       'number_of_reviews', 'reviews', 'url_ta', 'id_ta', 'sample', 'rating',\n",
       "       'cuisine_style_isNAN', 'price_range_isNAN', 'number_of_reviews_isNAN',\n",
       "       'cuisine_size', 'country', 'whr', 'time', 'time_one', 'time_two',\n",
       "       'year_one', 'month_one', 'day_one', 'year_two', 'month_two', 'day_two'],\n",
       "      dtype='object')"
      ]
     },
     "execution_count": 60,
     "metadata": {},
     "output_type": "execute_result"
    }
   ],
   "source": [
    "data.columns"
   ]
  },
  {
   "cell_type": "code",
   "execution_count": 61,
   "metadata": {
    "execution": {
     "iopub.execute_input": "2021-06-12T17:28:40.454019Z",
     "iopub.status.busy": "2021-06-12T17:28:40.453675Z",
     "iopub.status.idle": "2021-06-12T17:28:40.480625Z",
     "shell.execute_reply": "2021-06-12T17:28:40.479563Z",
     "shell.execute_reply.started": "2021-06-12T17:28:40.453964Z"
    }
   },
   "outputs": [
    {
     "data": {
      "text/plain": [
       "5"
      ]
     },
     "execution_count": 61,
     "metadata": {},
     "output_type": "execute_result"
    }
   ],
   "source": [
    "data[data['year_one'] < 2008].count()[0]"
   ]
  },
  {
   "cell_type": "markdown",
   "metadata": {},
   "source": [
    "## 3.5 Создаем признак с маркером хороших отзывов"
   ]
  },
  {
   "cell_type": "code",
   "execution_count": 62,
   "metadata": {
    "execution": {
     "iopub.execute_input": "2021-06-12T17:28:40.482481Z",
     "iopub.status.busy": "2021-06-12T17:28:40.482188Z",
     "iopub.status.idle": "2021-06-12T17:28:40.706002Z",
     "shell.execute_reply": "2021-06-12T17:28:40.704695Z",
     "shell.execute_reply.started": "2021-06-12T17:28:40.482431Z"
    }
   },
   "outputs": [],
   "source": [
    "regex = re.compile('[a-zA-Z]+')  #  составим регулярку для поиска слов\n",
    "good_words = []  # список для хороших комментариев\n",
    "for i in data[data['rating'] >= 4]['reviews']:\n",
    "    good_words.append(re.findall(regex, i))\n"
   ]
  },
  {
   "cell_type": "code",
   "execution_count": 63,
   "metadata": {
    "execution": {
     "iopub.execute_input": "2021-06-12T17:28:40.707680Z",
     "iopub.status.busy": "2021-06-12T17:28:40.707398Z",
     "iopub.status.idle": "2021-06-12T17:28:40.718706Z",
     "shell.execute_reply": "2021-06-12T17:28:40.717101Z",
     "shell.execute_reply.started": "2021-06-12T17:28:40.707635Z"
    }
   },
   "outputs": [
    {
     "data": {
      "text/plain": [
       "[['Unique', 'cuisine', 'Delicious', 'Nepalese', 'food'],\n",
       " ['Catch', 'up', 'with', 'friends', 'Not', 'exceptional'],\n",
       " [],\n",
       " ['Best',\n",
       "  'place',\n",
       "  'to',\n",
       "  'try',\n",
       "  'a',\n",
       "  'Bavarian',\n",
       "  'food',\n",
       "  'Nice',\n",
       "  'building',\n",
       "  'but',\n",
       "  'improvements',\n",
       "  'need',\n",
       "  'to',\n",
       "  'be'],\n",
       " ['Excellent', 'simple', 'local', 'eatery', 'Excellent', 'Restaurant'],\n",
       " [],\n",
       " ['Clean',\n",
       "  'efficient',\n",
       "  'staff',\n",
       "  'Nice',\n",
       "  'little',\n",
       "  'pizza',\n",
       "  'takeaway',\n",
       "  'place'],\n",
       " ['Not', 'bad', 'for', 'Canary', 'Wharf', 'To', 'be', 'a', 'pilgrim'],\n",
       " ['What',\n",
       "  'a',\n",
       "  'great',\n",
       "  'spot',\n",
       "  'Healthy',\n",
       "  'superfoods',\n",
       "  'various',\n",
       "  'lunch',\n",
       "  'offers',\n",
       "  'a'],\n",
       " [],\n",
       " ['Lovely', 'food', 'Great', 'coffee'],\n",
       " ['This', 'is', 'a', 'real', 'hidden', 'Sushi', 'gem'],\n",
       " ['gin', 'tour', 'venue', 'Gin', 'Tour'],\n",
       " ['Nice', 'stay', 'very', 'good', 'hotel', 'great', 'residential', 'area'],\n",
       " ['Hidden', 'Gem', 'Traditional', 'Bavarian', 'restaurant'],\n",
       " [],\n",
       " ['Great',\n",
       "  'Thai',\n",
       "  'Food',\n",
       "  'Great',\n",
       "  'Thai',\n",
       "  'Food',\n",
       "  'In',\n",
       "  'The',\n",
       "  'Middle',\n",
       "  'Of',\n",
       "  'Switzerla'],\n",
       " [],\n",
       " ['Heavenly', 'meat', 'slices', 'and', 'craft', 'beer', 'too'],\n",
       " ['Fab', 'Food']]"
      ]
     },
     "execution_count": 63,
     "metadata": {},
     "output_type": "execute_result"
    }
   ],
   "source": [
    "# взглянем на список, отберем слова характерезующие хорошую оценку\n",
    "gw = ['nice', 'excellent', 'best', 'great', 'lovely', 'fantastic', 'amazing']\n",
    "good_words[:20]"
   ]
  },
  {
   "cell_type": "code",
   "execution_count": 64,
   "metadata": {
    "execution": {
     "iopub.execute_input": "2021-06-12T17:28:40.721687Z",
     "iopub.status.busy": "2021-06-12T17:28:40.721196Z",
     "iopub.status.idle": "2021-06-12T17:28:44.873798Z",
     "shell.execute_reply": "2021-06-12T17:28:44.872545Z",
     "shell.execute_reply.started": "2021-06-12T17:28:40.721607Z"
    }
   },
   "outputs": [],
   "source": [
    "regex = re.compile('[a-zA-Z]+')  #  нам снова потребуется эта регулярка\n",
    "data['good_words'] = 0\n",
    "\n",
    "'''создаем список слов из строки \"reviews\"\n",
    "и проверяем наличие слов'''\n",
    "for i in range(len(data)):  # потенциально хорошие\n",
    "    x = re.findall(regex, data['reviews'][i])\n",
    "    for f in x:\n",
    "        for z in gw:\n",
    "            if z in f.lower():\n",
    "                data['good_words'][i] = 1\n",
    "            "
   ]
  },
  {
   "cell_type": "code",
   "execution_count": 65,
   "metadata": {
    "execution": {
     "iopub.execute_input": "2021-06-12T17:28:44.875493Z",
     "iopub.status.busy": "2021-06-12T17:28:44.875258Z",
     "iopub.status.idle": "2021-06-12T17:28:44.886411Z",
     "shell.execute_reply": "2021-06-12T17:28:44.885188Z",
     "shell.execute_reply.started": "2021-06-12T17:28:44.875458Z"
    }
   },
   "outputs": [
    {
     "data": {
      "text/plain": [
       "0    28551\n",
       "1    21449\n",
       "Name: good_words, dtype: int64"
      ]
     },
     "execution_count": 65,
     "metadata": {},
     "output_type": "execute_result"
    }
   ],
   "source": [
    "data['good_words'].value_counts()"
   ]
  },
  {
   "cell_type": "markdown",
   "metadata": {},
   "source": [
    "### 3.6 Создаем признак, показывающий кол-во населения страны. "
   ]
  },
  {
   "cell_type": "code",
   "execution_count": 66,
   "metadata": {
    "execution": {
     "iopub.execute_input": "2021-06-12T17:28:44.889702Z",
     "iopub.status.busy": "2021-06-12T17:28:44.889205Z",
     "iopub.status.idle": "2021-06-12T17:28:44.897489Z",
     "shell.execute_reply": "2021-06-12T17:28:44.896622Z",
     "shell.execute_reply.started": "2021-06-12T17:28:44.889625Z"
    }
   },
   "outputs": [],
   "source": [
    "data['population'] = None"
   ]
  },
  {
   "cell_type": "code",
   "execution_count": 67,
   "metadata": {
    "execution": {
     "iopub.execute_input": "2021-06-12T17:28:44.899399Z",
     "iopub.status.busy": "2021-06-12T17:28:44.898918Z",
     "iopub.status.idle": "2021-06-12T17:28:44.911185Z",
     "shell.execute_reply": "2021-06-12T17:28:44.910336Z",
     "shell.execute_reply.started": "2021-06-12T17:28:44.899355Z"
    }
   },
   "outputs": [
    {
     "data": {
      "text/plain": [
       "'Afghanistan '"
      ]
     },
     "execution_count": 67,
     "metadata": {},
     "output_type": "execute_result"
    }
   ],
   "source": [
    "cs_world['Country'][0]"
   ]
  },
  {
   "cell_type": "code",
   "execution_count": 68,
   "metadata": {
    "execution": {
     "iopub.execute_input": "2021-06-12T17:28:44.913199Z",
     "iopub.status.busy": "2021-06-12T17:28:44.912861Z",
     "iopub.status.idle": "2021-06-12T17:28:44.953593Z",
     "shell.execute_reply": "2021-06-12T17:28:44.952198Z",
     "shell.execute_reply.started": "2021-06-12T17:28:44.913135Z"
    }
   },
   "outputs": [],
   "source": [
    "# после названия страны стоит пробел, стоит его убрать\n",
    "for i in range(len(cs_world)):\n",
    "    cs_world['Country'][i] = cs_world['Country'][i][:-1]"
   ]
  },
  {
   "cell_type": "code",
   "execution_count": 69,
   "metadata": {
    "execution": {
     "iopub.execute_input": "2021-06-12T17:28:44.956566Z",
     "iopub.status.busy": "2021-06-12T17:28:44.956156Z",
     "iopub.status.idle": "2021-06-12T17:35:51.664603Z",
     "shell.execute_reply": "2021-06-12T17:35:51.663698Z",
     "shell.execute_reply.started": "2021-06-12T17:28:44.956491Z"
    }
   },
   "outputs": [],
   "source": [
    "for i in range(len(data)):\n",
    "    for z in range(len(cs_world)):\n",
    "        if data['country'][i] == cs_world['Country'][z]:\n",
    "            data['population'][i] = int(cs_world['Population'][z])"
   ]
  },
  {
   "cell_type": "code",
   "execution_count": 70,
   "metadata": {
    "execution": {
     "iopub.execute_input": "2021-06-12T17:35:51.666618Z",
     "iopub.status.busy": "2021-06-12T17:35:51.666318Z",
     "iopub.status.idle": "2021-06-12T17:35:51.679268Z",
     "shell.execute_reply": "2021-06-12T17:35:51.678111Z",
     "shell.execute_reply.started": "2021-06-12T17:35:51.666562Z"
    }
   },
   "outputs": [
    {
     "data": {
      "text/plain": [
       "0"
      ]
     },
     "execution_count": 70,
     "metadata": {},
     "output_type": "execute_result"
    }
   ],
   "source": [
    "data['population'].isna().sum()"
   ]
  },
  {
   "cell_type": "markdown",
   "metadata": {},
   "source": [
    "### 3.7 Разбиваем города на столбцы"
   ]
  },
  {
   "cell_type": "code",
   "execution_count": 71,
   "metadata": {
    "execution": {
     "iopub.execute_input": "2021-06-12T17:35:51.683356Z",
     "iopub.status.busy": "2021-06-12T17:35:51.683050Z",
     "iopub.status.idle": "2021-06-12T17:35:51.759594Z",
     "shell.execute_reply": "2021-06-12T17:35:51.758254Z",
     "shell.execute_reply.started": "2021-06-12T17:35:51.683306Z"
    }
   },
   "outputs": [],
   "source": [
    "data = pd.get_dummies(data, columns=['city'], dummy_na=True)"
   ]
  },
  {
   "cell_type": "markdown",
   "metadata": {},
   "source": [
    "### 3.8 Разбиваем вид кухни на столбцы"
   ]
  },
  {
   "cell_type": "code",
   "execution_count": 72,
   "metadata": {
    "execution": {
     "iopub.execute_input": "2021-06-12T17:35:51.761351Z",
     "iopub.status.busy": "2021-06-12T17:35:51.761051Z",
     "iopub.status.idle": "2021-06-12T17:35:51.768646Z",
     "shell.execute_reply": "2021-06-12T17:35:51.767782Z",
     "shell.execute_reply.started": "2021-06-12T17:35:51.761295Z"
    }
   },
   "outputs": [
    {
     "data": {
      "text/plain": [
       "0               Bar\n",
       "1               Pub\n",
       "2          European\n",
       "3      Scandinavian\n",
       "4            Gluten\n",
       "           ...     \n",
       "126      Salvadoran\n",
       "127        Xinjiang\n",
       "128         Burmese\n",
       "129          Fujian\n",
       "130         Latvian\n",
       "Length: 131, dtype: object"
      ]
     },
     "execution_count": 72,
     "metadata": {},
     "output_type": "execute_result"
    }
   ],
   "source": [
    "all_cuisine"
   ]
  },
  {
   "cell_type": "code",
   "execution_count": 73,
   "metadata": {
    "execution": {
     "iopub.execute_input": "2021-06-12T17:35:51.770205Z",
     "iopub.status.busy": "2021-06-12T17:35:51.769830Z",
     "iopub.status.idle": "2021-06-12T17:35:51.946504Z",
     "shell.execute_reply": "2021-06-12T17:35:51.945823Z",
     "shell.execute_reply.started": "2021-06-12T17:35:51.770153Z"
    }
   },
   "outputs": [],
   "source": [
    "'''создаем новые столбцы'''\n",
    "for i in all_cuisine:\n",
    "    data[i] = 0"
   ]
  },
  {
   "cell_type": "code",
   "execution_count": 74,
   "metadata": {
    "execution": {
     "iopub.execute_input": "2021-06-12T17:35:51.950133Z",
     "iopub.status.busy": "2021-06-12T17:35:51.949729Z",
     "iopub.status.idle": "2021-06-12T17:38:55.461082Z",
     "shell.execute_reply": "2021-06-12T17:38:55.459566Z",
     "shell.execute_reply.started": "2021-06-12T17:35:51.950093Z"
    }
   },
   "outputs": [],
   "source": [
    "'''преобразуем значения в новых столбцам в соответствии с кухней ресторана'''\n",
    "for i in range(len(data)):\n",
    "    for z in all_cuisine:\n",
    "        if z in data['cuisine_style'][i]:\n",
    "            data[z][i] = 1\n",
    "       "
   ]
  },
  {
   "cell_type": "code",
   "execution_count": 75,
   "metadata": {
    "execution": {
     "iopub.execute_input": "2021-06-12T17:38:55.463641Z",
     "iopub.status.busy": "2021-06-12T17:38:55.463294Z",
     "iopub.status.idle": "2021-06-12T17:38:55.483594Z",
     "shell.execute_reply": "2021-06-12T17:38:55.482065Z",
     "shell.execute_reply.started": "2021-06-12T17:38:55.463585Z"
    }
   },
   "outputs": [
    {
     "name": "stdout",
     "output_type": "stream",
     "text": [
      "<class 'pandas.core.frame.DataFrame'>\n",
      "RangeIndex: 50000 entries, 0 to 49999\n",
      "Columns: 190 entries, restaurant_id to Latvian\n",
      "dtypes: float64(3), int64(133), object(19), uint8(35)\n",
      "memory usage: 60.8+ MB\n"
     ]
    }
   ],
   "source": [
    "data.info()"
   ]
  },
  {
   "cell_type": "code",
   "execution_count": 76,
   "metadata": {
    "execution": {
     "iopub.execute_input": "2021-06-12T17:38:55.486106Z",
     "iopub.status.busy": "2021-06-12T17:38:55.485712Z",
     "iopub.status.idle": "2021-06-12T17:38:55.602911Z",
     "shell.execute_reply": "2021-06-12T17:38:55.601984Z",
     "shell.execute_reply.started": "2021-06-12T17:38:55.486046Z"
    }
   },
   "outputs": [
    {
     "data": {
      "text/plain": [
       "restaurant_id        0\n",
       "cuisine_style        0\n",
       "ranking              0\n",
       "price_range          0\n",
       "number_of_reviews    0\n",
       "                    ..\n",
       "Salvadoran           0\n",
       "Xinjiang             0\n",
       "Burmese              0\n",
       "Fujian               0\n",
       "Latvian              0\n",
       "Length: 190, dtype: int64"
      ]
     },
     "execution_count": 76,
     "metadata": {},
     "output_type": "execute_result"
    }
   ],
   "source": [
    "data.isna().sum()"
   ]
  },
  {
   "cell_type": "code",
   "execution_count": 77,
   "metadata": {
    "execution": {
     "iopub.execute_input": "2021-06-12T17:54:20.753096Z",
     "iopub.status.busy": "2021-06-12T17:54:20.752620Z",
     "iopub.status.idle": "2021-06-12T17:54:20.857108Z",
     "shell.execute_reply": "2021-06-12T17:54:20.856037Z",
     "shell.execute_reply.started": "2021-06-12T17:54:20.753015Z"
    }
   },
   "outputs": [],
   "source": [
    "# так как признаков много, проверим пропуски через цикл\n",
    "for i in data.columns:\n",
    "    if data[i].isna().sum() > 0:\n",
    "        print(i)"
   ]
  },
  {
   "cell_type": "markdown",
   "metadata": {},
   "source": [
    "# Подготовка"
   ]
  },
  {
   "cell_type": "code",
   "execution_count": 78,
   "metadata": {
    "execution": {
     "iopub.execute_input": "2021-06-12T17:42:47.769661Z",
     "iopub.status.busy": "2021-06-12T17:42:47.769342Z",
     "iopub.status.idle": "2021-06-12T17:42:47.807803Z",
     "shell.execute_reply": "2021-06-12T17:42:47.806759Z",
     "shell.execute_reply.started": "2021-06-12T17:42:47.769610Z"
    }
   },
   "outputs": [],
   "source": [
    "# подготовим наш датасет и удалим лишнее\n",
    "data = data.drop(['restaurant_id','reviews', 'url_ta', 'id_ta',\n",
    "                     'country', 'time', 'time_one', 'time_two','cuisine_style'], axis = 1)"
   ]
  },
  {
   "cell_type": "code",
   "execution_count": 79,
   "metadata": {
    "execution": {
     "iopub.execute_input": "2021-06-12T17:42:49.892401Z",
     "iopub.status.busy": "2021-06-12T17:42:49.892055Z",
     "iopub.status.idle": "2021-06-12T17:42:49.919600Z",
     "shell.execute_reply": "2021-06-12T17:42:49.918982Z",
     "shell.execute_reply.started": "2021-06-12T17:42:49.892344Z"
    }
   },
   "outputs": [
    {
     "data": {
      "text/html": [
       "<div>\n",
       "<style scoped>\n",
       "    .dataframe tbody tr th:only-of-type {\n",
       "        vertical-align: middle;\n",
       "    }\n",
       "\n",
       "    .dataframe tbody tr th {\n",
       "        vertical-align: top;\n",
       "    }\n",
       "\n",
       "    .dataframe thead th {\n",
       "        text-align: right;\n",
       "    }\n",
       "</style>\n",
       "<table border=\"1\" class=\"dataframe\">\n",
       "  <thead>\n",
       "    <tr style=\"text-align: right;\">\n",
       "      <th></th>\n",
       "      <th>ranking</th>\n",
       "      <th>price_range</th>\n",
       "      <th>number_of_reviews</th>\n",
       "      <th>sample</th>\n",
       "      <th>rating</th>\n",
       "      <th>cuisine_style_isNAN</th>\n",
       "      <th>price_range_isNAN</th>\n",
       "      <th>number_of_reviews_isNAN</th>\n",
       "      <th>cuisine_size</th>\n",
       "      <th>whr</th>\n",
       "      <th>...</th>\n",
       "      <th>Ukrainian</th>\n",
       "      <th>Albanian</th>\n",
       "      <th>Polynesian</th>\n",
       "      <th>Caucasian</th>\n",
       "      <th>Uzbek</th>\n",
       "      <th>Salvadoran</th>\n",
       "      <th>Xinjiang</th>\n",
       "      <th>Burmese</th>\n",
       "      <th>Fujian</th>\n",
       "      <th>Latvian</th>\n",
       "    </tr>\n",
       "  </thead>\n",
       "  <tbody>\n",
       "    <tr>\n",
       "      <th>0</th>\n",
       "      <td>12963.0</td>\n",
       "      <td>2</td>\n",
       "      <td>4.0</td>\n",
       "      <td>0</td>\n",
       "      <td>0.0</td>\n",
       "      <td>0</td>\n",
       "      <td>0</td>\n",
       "      <td>0</td>\n",
       "      <td>2</td>\n",
       "      <td>6.442</td>\n",
       "      <td>...</td>\n",
       "      <td>0</td>\n",
       "      <td>0</td>\n",
       "      <td>0</td>\n",
       "      <td>0</td>\n",
       "      <td>0</td>\n",
       "      <td>0</td>\n",
       "      <td>0</td>\n",
       "      <td>0</td>\n",
       "      <td>0</td>\n",
       "      <td>0</td>\n",
       "    </tr>\n",
       "    <tr>\n",
       "      <th>1</th>\n",
       "      <td>106.0</td>\n",
       "      <td>2</td>\n",
       "      <td>97.0</td>\n",
       "      <td>0</td>\n",
       "      <td>0.0</td>\n",
       "      <td>0</td>\n",
       "      <td>0</td>\n",
       "      <td>0</td>\n",
       "      <td>9</td>\n",
       "      <td>7.469</td>\n",
       "      <td>...</td>\n",
       "      <td>0</td>\n",
       "      <td>0</td>\n",
       "      <td>0</td>\n",
       "      <td>0</td>\n",
       "      <td>0</td>\n",
       "      <td>0</td>\n",
       "      <td>0</td>\n",
       "      <td>0</td>\n",
       "      <td>0</td>\n",
       "      <td>0</td>\n",
       "    </tr>\n",
       "    <tr>\n",
       "      <th>2</th>\n",
       "      <td>810.0</td>\n",
       "      <td>2</td>\n",
       "      <td>28.0</td>\n",
       "      <td>0</td>\n",
       "      <td>0.0</td>\n",
       "      <td>0</td>\n",
       "      <td>0</td>\n",
       "      <td>0</td>\n",
       "      <td>2</td>\n",
       "      <td>6.714</td>\n",
       "      <td>...</td>\n",
       "      <td>0</td>\n",
       "      <td>0</td>\n",
       "      <td>0</td>\n",
       "      <td>0</td>\n",
       "      <td>0</td>\n",
       "      <td>0</td>\n",
       "      <td>0</td>\n",
       "      <td>0</td>\n",
       "      <td>0</td>\n",
       "      <td>0</td>\n",
       "    </tr>\n",
       "    <tr>\n",
       "      <th>3</th>\n",
       "      <td>1669.0</td>\n",
       "      <td>3</td>\n",
       "      <td>202.0</td>\n",
       "      <td>0</td>\n",
       "      <td>0.0</td>\n",
       "      <td>0</td>\n",
       "      <td>0</td>\n",
       "      <td>0</td>\n",
       "      <td>8</td>\n",
       "      <td>6.714</td>\n",
       "      <td>...</td>\n",
       "      <td>0</td>\n",
       "      <td>0</td>\n",
       "      <td>0</td>\n",
       "      <td>0</td>\n",
       "      <td>0</td>\n",
       "      <td>0</td>\n",
       "      <td>0</td>\n",
       "      <td>0</td>\n",
       "      <td>0</td>\n",
       "      <td>0</td>\n",
       "    </tr>\n",
       "    <tr>\n",
       "      <th>4</th>\n",
       "      <td>37.0</td>\n",
       "      <td>3</td>\n",
       "      <td>162.0</td>\n",
       "      <td>0</td>\n",
       "      <td>0.0</td>\n",
       "      <td>0</td>\n",
       "      <td>0</td>\n",
       "      <td>0</td>\n",
       "      <td>9</td>\n",
       "      <td>6.098</td>\n",
       "      <td>...</td>\n",
       "      <td>0</td>\n",
       "      <td>0</td>\n",
       "      <td>0</td>\n",
       "      <td>0</td>\n",
       "      <td>0</td>\n",
       "      <td>0</td>\n",
       "      <td>0</td>\n",
       "      <td>0</td>\n",
       "      <td>0</td>\n",
       "      <td>0</td>\n",
       "    </tr>\n",
       "  </tbody>\n",
       "</table>\n",
       "<p>5 rows × 181 columns</p>\n",
       "</div>"
      ],
      "text/plain": [
       "   ranking price_range  number_of_reviews  sample  rating  \\\n",
       "0  12963.0           2                4.0       0     0.0   \n",
       "1    106.0           2               97.0       0     0.0   \n",
       "2    810.0           2               28.0       0     0.0   \n",
       "3   1669.0           3              202.0       0     0.0   \n",
       "4     37.0           3              162.0       0     0.0   \n",
       "\n",
       "   cuisine_style_isNAN  price_range_isNAN  number_of_reviews_isNAN  \\\n",
       "0                    0                  0                        0   \n",
       "1                    0                  0                        0   \n",
       "2                    0                  0                        0   \n",
       "3                    0                  0                        0   \n",
       "4                    0                  0                        0   \n",
       "\n",
       "  cuisine_size    whr  ... Ukrainian Albanian Polynesian Caucasian Uzbek  \\\n",
       "0            2  6.442  ...         0        0          0         0     0   \n",
       "1            9  7.469  ...         0        0          0         0     0   \n",
       "2            2  6.714  ...         0        0          0         0     0   \n",
       "3            8  6.714  ...         0        0          0         0     0   \n",
       "4            9  6.098  ...         0        0          0         0     0   \n",
       "\n",
       "  Salvadoran  Xinjiang Burmese  Fujian  Latvian  \n",
       "0          0         0       0       0        0  \n",
       "1          0         0       0       0        0  \n",
       "2          0         0       0       0        0  \n",
       "3          0         0       0       0        0  \n",
       "4          0         0       0       0        0  \n",
       "\n",
       "[5 rows x 181 columns]"
      ]
     },
     "execution_count": 79,
     "metadata": {},
     "output_type": "execute_result"
    }
   ],
   "source": [
    "data.head()"
   ]
  },
  {
   "cell_type": "code",
   "execution_count": 80,
   "metadata": {
    "execution": {
     "iopub.execute_input": "2021-06-12T17:50:43.091205Z",
     "iopub.status.busy": "2021-06-12T17:50:43.090839Z",
     "iopub.status.idle": "2021-06-12T17:50:43.177541Z",
     "shell.execute_reply": "2021-06-12T17:50:43.176564Z",
     "shell.execute_reply.started": "2021-06-12T17:50:43.091129Z"
    }
   },
   "outputs": [],
   "source": [
    "# Теперь выделим тестовую часть\n",
    "train_data = data.query('sample == 1').drop(['sample'], axis=1)\n",
    "test_data = data.query('sample == 0').drop(['sample',], axis=1)"
   ]
  },
  {
   "cell_type": "code",
   "execution_count": 81,
   "metadata": {
    "execution": {
     "iopub.execute_input": "2021-06-12T17:50:43.276425Z",
     "iopub.status.busy": "2021-06-12T17:50:43.276059Z",
     "iopub.status.idle": "2021-06-12T17:50:43.285274Z",
     "shell.execute_reply": "2021-06-12T17:50:43.283850Z",
     "shell.execute_reply.started": "2021-06-12T17:50:43.276365Z"
    }
   },
   "outputs": [
    {
     "data": {
      "text/plain": [
       "array([3.5, 4. , 4.5, ..., 4.5, 4. , 3. ])"
      ]
     },
     "execution_count": 81,
     "metadata": {},
     "output_type": "execute_result"
    }
   ],
   "source": [
    "train_data.rating.values "
   ]
  },
  {
   "cell_type": "code",
   "execution_count": 82,
   "metadata": {
    "execution": {
     "iopub.execute_input": "2021-06-12T17:50:43.424646Z",
     "iopub.status.busy": "2021-06-12T17:50:43.424325Z",
     "iopub.status.idle": "2021-06-12T17:50:43.450790Z",
     "shell.execute_reply": "2021-06-12T17:50:43.449676Z",
     "shell.execute_reply.started": "2021-06-12T17:50:43.424593Z"
    }
   },
   "outputs": [],
   "source": [
    "y = train_data.rating.values            # наш таргет\n",
    "X = train_data.drop('rating', axis = 1)"
   ]
  },
  {
   "cell_type": "code",
   "execution_count": 83,
   "metadata": {
    "execution": {
     "iopub.execute_input": "2021-06-12T17:50:43.600628Z",
     "iopub.status.busy": "2021-06-12T17:50:43.599708Z",
     "iopub.status.idle": "2021-06-12T17:50:43.609039Z",
     "shell.execute_reply": "2021-06-12T17:50:43.607985Z",
     "shell.execute_reply.started": "2021-06-12T17:50:43.600547Z"
    }
   },
   "outputs": [
    {
     "data": {
      "text/plain": [
       "Index(['ranking', 'price_range', 'number_of_reviews', 'cuisine_style_isNAN',\n",
       "       'price_range_isNAN', 'number_of_reviews_isNAN', 'cuisine_size', 'whr',\n",
       "       'year_one', 'month_one',\n",
       "       ...\n",
       "       'Ukrainian', 'Albanian', 'Polynesian', 'Caucasian', 'Uzbek',\n",
       "       'Salvadoran', 'Xinjiang', 'Burmese', 'Fujian', 'Latvian'],\n",
       "      dtype='object', length=179)"
      ]
     },
     "execution_count": 83,
     "metadata": {},
     "output_type": "execute_result"
    }
   ],
   "source": [
    "X.columns"
   ]
  },
  {
   "cell_type": "markdown",
   "metadata": {},
   "source": [
    "**Перед тем как отправлять наши данные на обучение, разделим данные на еще один тест и трейн, для валидации. \n",
    "Это поможет нам проверить, как хорошо наша модель работает, до отправки submissiona на kaggle.**"
   ]
  },
  {
   "cell_type": "code",
   "execution_count": 84,
   "metadata": {
    "execution": {
     "iopub.execute_input": "2021-06-12T17:50:44.918249Z",
     "iopub.status.busy": "2021-06-12T17:50:44.917491Z",
     "iopub.status.idle": "2021-06-12T17:50:45.002424Z",
     "shell.execute_reply": "2021-06-12T17:50:45.001557Z",
     "shell.execute_reply.started": "2021-06-12T17:50:44.918172Z"
    }
   },
   "outputs": [],
   "source": [
    "# Воспользуемся специальной функцие train_test_split для разбивки тестовых данных\n",
    "# выделим 20% данных на валидацию (параметр test_size)\n",
    "X_train, X_test, y_train, y_test = train_test_split(X, y, test_size=0.2, random_state=RANDOM_SEED)"
   ]
  },
  {
   "cell_type": "code",
   "execution_count": 85,
   "metadata": {
    "execution": {
     "iopub.execute_input": "2021-06-12T17:50:48.724247Z",
     "iopub.status.busy": "2021-06-12T17:50:48.723544Z",
     "iopub.status.idle": "2021-06-12T17:50:48.732879Z",
     "shell.execute_reply": "2021-06-12T17:50:48.731836Z",
     "shell.execute_reply.started": "2021-06-12T17:50:48.724176Z"
    }
   },
   "outputs": [
    {
     "data": {
      "text/plain": [
       "((10000, 180), (40000, 180), (40000, 179), (32000, 179), (8000, 179))"
      ]
     },
     "execution_count": 85,
     "metadata": {},
     "output_type": "execute_result"
    }
   ],
   "source": [
    "# проверяем\n",
    "test_data.shape, train_data.shape, X.shape, X_train.shape, X_test.shape"
   ]
  },
  {
   "cell_type": "markdown",
   "metadata": {},
   "source": [
    "# Model \n",
    "Сам ML"
   ]
  },
  {
   "cell_type": "code",
   "execution_count": 86,
   "metadata": {
    "execution": {
     "iopub.execute_input": "2021-06-12T17:50:49.843888Z",
     "iopub.status.busy": "2021-06-12T17:50:49.843414Z",
     "iopub.status.idle": "2021-06-12T17:50:49.847857Z",
     "shell.execute_reply": "2021-06-12T17:50:49.847127Z",
     "shell.execute_reply.started": "2021-06-12T17:50:49.843840Z"
    }
   },
   "outputs": [],
   "source": [
    "# Импортируем необходимые библиотеки:\n",
    "from sklearn.ensemble import RandomForestRegressor # инструмент для создания и обучения модели\n",
    "from sklearn import metrics # инструменты для оценки точности модели"
   ]
  },
  {
   "cell_type": "code",
   "execution_count": 87,
   "metadata": {
    "execution": {
     "iopub.execute_input": "2021-06-12T17:50:50.218401Z",
     "iopub.status.busy": "2021-06-12T17:50:50.218059Z",
     "iopub.status.idle": "2021-06-12T17:50:50.222748Z",
     "shell.execute_reply": "2021-06-12T17:50:50.222043Z",
     "shell.execute_reply.started": "2021-06-12T17:50:50.218335Z"
    }
   },
   "outputs": [],
   "source": [
    "# Создаём модель (НАСТРОЙКИ НЕ ТРОГАЕМ)\n",
    "model = RandomForestRegressor(n_estimators=100, verbose=1, n_jobs=-1, random_state=RANDOM_SEED)"
   ]
  },
  {
   "cell_type": "code",
   "execution_count": 88,
   "metadata": {
    "execution": {
     "iopub.execute_input": "2021-06-12T17:50:51.224419Z",
     "iopub.status.busy": "2021-06-12T17:50:51.224116Z",
     "iopub.status.idle": "2021-06-12T17:51:08.101641Z",
     "shell.execute_reply": "2021-06-12T17:51:08.099682Z",
     "shell.execute_reply.started": "2021-06-12T17:50:51.224368Z"
    }
   },
   "outputs": [
    {
     "name": "stderr",
     "output_type": "stream",
     "text": [
      "[Parallel(n_jobs=-1)]: Using backend ThreadingBackend with 4 concurrent workers.\n",
      "[Parallel(n_jobs=-1)]: Done  42 tasks      | elapsed:    6.5s\n",
      "[Parallel(n_jobs=-1)]: Done 100 out of 100 | elapsed:   14.8s finished\n",
      "[Parallel(n_jobs=4)]: Using backend ThreadingBackend with 4 concurrent workers.\n",
      "[Parallel(n_jobs=4)]: Done  42 tasks      | elapsed:    0.1s\n",
      "[Parallel(n_jobs=4)]: Done 100 out of 100 | elapsed:    0.1s finished\n"
     ]
    }
   ],
   "source": [
    "# Обучаем модель на тестовом наборе данных\n",
    "model.fit(X_train, y_train)\n",
    "\n",
    "# Используем обученную модель для предсказания рейтинга ресторанов в тестовой выборке.\n",
    "# Предсказанные значения записываем в переменную y_pred\n",
    "\n",
    "# раз оценки у нас на сайте с шагом в 0.5, то округляем наш результат соответственно\n",
    "y_pred = pd.Series(model.predict(X_test)).apply(lambda x: round(x *2) / 2)"
   ]
  },
  {
   "cell_type": "code",
   "execution_count": 89,
   "metadata": {
    "execution": {
     "iopub.execute_input": "2021-06-12T17:51:08.103826Z",
     "iopub.status.busy": "2021-06-12T17:51:08.103551Z",
     "iopub.status.idle": "2021-06-12T17:51:08.114918Z",
     "shell.execute_reply": "2021-06-12T17:51:08.113900Z",
     "shell.execute_reply.started": "2021-06-12T17:51:08.103787Z"
    }
   },
   "outputs": [
    {
     "data": {
      "text/plain": [
       "0       4.5\n",
       "1       5.0\n",
       "2       4.5\n",
       "3       3.5\n",
       "4       4.0\n",
       "       ... \n",
       "7995    5.0\n",
       "7996    2.5\n",
       "7997    4.5\n",
       "7998    4.5\n",
       "7999    4.0\n",
       "Length: 8000, dtype: float64"
      ]
     },
     "execution_count": 89,
     "metadata": {},
     "output_type": "execute_result"
    }
   ],
   "source": [
    "y_pred"
   ]
  },
  {
   "cell_type": "code",
   "execution_count": 90,
   "metadata": {
    "execution": {
     "iopub.execute_input": "2021-06-12T17:51:08.120205Z",
     "iopub.status.busy": "2021-06-12T17:51:08.119609Z",
     "iopub.status.idle": "2021-06-12T17:51:08.127782Z",
     "shell.execute_reply": "2021-06-12T17:51:08.126480Z",
     "shell.execute_reply.started": "2021-06-12T17:51:08.120104Z"
    }
   },
   "outputs": [
    {
     "name": "stdout",
     "output_type": "stream",
     "text": [
      "MAE: 0.1763125\n"
     ]
    }
   ],
   "source": [
    "# Сравниваем предсказанные значения (y_pred) с реальными (y_test), и смотрим насколько они в среднем отличаются\n",
    "# Метрика называется Mean Absolute Error (MAE) и показывает среднее отклонение предсказанных значений от фактических.\n",
    "print('MAE:', metrics.mean_absolute_error(y_test, y_pred))"
   ]
  },
  {
   "cell_type": "code",
   "execution_count": 91,
   "metadata": {
    "execution": {
     "iopub.execute_input": "2021-06-12T17:51:22.272018Z",
     "iopub.status.busy": "2021-06-12T17:51:22.271657Z",
     "iopub.status.idle": "2021-06-12T17:51:22.276547Z",
     "shell.execute_reply": "2021-06-12T17:51:22.275561Z",
     "shell.execute_reply.started": "2021-06-12T17:51:22.271964Z"
    }
   },
   "outputs": [],
   "source": [
    "# MAE: 0.17625\n",
    "#MAE: 0.1751875"
   ]
  },
  {
   "cell_type": "code",
   "execution_count": 92,
   "metadata": {
    "execution": {
     "iopub.execute_input": "2021-06-12T17:52:11.415161Z",
     "iopub.status.busy": "2021-06-12T17:52:11.414800Z",
     "iopub.status.idle": "2021-06-12T17:52:11.977493Z",
     "shell.execute_reply": "2021-06-12T17:52:11.976697Z",
     "shell.execute_reply.started": "2021-06-12T17:52:11.415099Z"
    }
   },
   "outputs": [
    {
     "data": {
      "text/plain": [
       "<matplotlib.axes._subplots.AxesSubplot at 0x7fc3f00dc400>"
      ]
     },
     "execution_count": 92,
     "metadata": {},
     "output_type": "execute_result"
    },
    {
     "data": {
      "image/png": "[encoded data removed]",
      "text/plain": [
       "<Figure size 720x720 with 1 Axes>"
      ]
     },
     "metadata": {
      "needs_background": "light"
     },
     "output_type": "display_data"
    }
   ],
   "source": [
    "# в RandomForestRegressor есть возможность вывести самые важные признаки для модели\n",
    "plt.rcParams['figure.figsize'] = (10,10)\n",
    "feat_importances = pd.Series(model.feature_importances_, index=X.columns)\n",
    "feat_importances.nlargest(30).plot(kind='barh')"
   ]
  },
  {
   "cell_type": "code",
   "execution_count": 93,
   "metadata": {
    "execution": {
     "iopub.execute_input": "2021-06-12T17:44:33.072426Z",
     "iopub.status.busy": "2021-06-12T17:44:33.071986Z",
     "iopub.status.idle": "2021-06-12T17:44:33.078453Z",
     "shell.execute_reply": "2021-06-12T17:44:33.077847Z",
     "shell.execute_reply.started": "2021-06-12T17:44:33.072386Z"
    }
   },
   "outputs": [
    {
     "data": {
      "text/plain": [
       "Index(['ranking', 'price_range', 'number_of_reviews', 'rating',\n",
       "       'cuisine_style_isNAN', 'price_range_isNAN', 'number_of_reviews_isNAN',\n",
       "       'cuisine_size', 'whr', 'year_one', 'month_one', 'day_one', 'year_two',\n",
       "       'month_two', 'day_two', 'good_words', 'population', 'city_Amsterdam',\n",
       "       'city_Athens', 'city_Barcelona', 'city_Berlin', 'city_Bratislava',\n",
       "       'city_Brussels', 'city_Budapest', 'city_Copenhagen', 'city_Dublin',\n",
       "       'city_Edinburgh', 'city_Geneva', 'city_Hamburg', 'city_Helsinki',\n",
       "       'city_Krakow', 'city_Lisbon', 'city_Ljubljana', 'city_London',\n",
       "       'city_Luxembourg', 'city_Lyon', 'city_Madrid', 'city_Milan',\n",
       "       'city_Munich', 'city_Oporto', 'city_Oslo', 'city_Paris', 'city_Prague',\n",
       "       'city_Rome', 'city_Stockholm', 'city_Vienna', 'city_Warsaw',\n",
       "       'city_Zurich', 'city_nan', 'Bar', 'Pub', 'European', 'Scandinavian',\n",
       "       'Gluten', 'Free', 'Options', 'Vegetarian', 'Friendly', 'Vegan',\n",
       "       'Italian', 'Mediterranean', 'Seafood', 'French', 'Cafe', 'Fast', 'Food',\n",
       "       'Portuguese', 'Russ', 'Greek', 'Czech', 'Eastern', 'Central', 'Pizza',\n",
       "       'British', 'Spanish', 'Norwegian', 'African', 'Moroccan', 'Middle',\n",
       "       'Halal', 'Indian', 'Thai', 'Dutch', 'Welsh', 'American', 'Steakhouse',\n",
       "       'Soups', 'Scottish', 'Fusion', 'Street', 'Hungarian', 'Asian', 'Wine',\n",
       "       'Barbecue', 'Peruvian', 'South', 'Irish', 'Polish', 'Vietnamese',\n",
       "       'Lebanese'],\n",
       "      dtype='object')"
      ]
     },
     "execution_count": 93,
     "metadata": {},
     "output_type": "execute_result"
    }
   ],
   "source": [
    "train_data.columns[:100]"
   ]
  },
  {
   "cell_type": "markdown",
   "metadata": {},
   "source": [
    "# Submission\n",
    "Если все устраевает - готовим Submission на кагл"
   ]
  },
  {
   "cell_type": "code",
   "execution_count": 94,
   "metadata": {
    "execution": {
     "iopub.execute_input": "2021-06-12T17:52:17.453212Z",
     "iopub.status.busy": "2021-06-12T17:52:17.452675Z",
     "iopub.status.idle": "2021-06-12T17:52:17.486370Z",
     "shell.execute_reply": "2021-06-12T17:52:17.485031Z",
     "shell.execute_reply.started": "2021-06-12T17:52:17.453160Z"
    }
   },
   "outputs": [
    {
     "data": {
      "text/html": [
       "<div>\n",
       "<style scoped>\n",
       "    .dataframe tbody tr th:only-of-type {\n",
       "        vertical-align: middle;\n",
       "    }\n",
       "\n",
       "    .dataframe tbody tr th {\n",
       "        vertical-align: top;\n",
       "    }\n",
       "\n",
       "    .dataframe thead th {\n",
       "        text-align: right;\n",
       "    }\n",
       "</style>\n",
       "<table border=\"1\" class=\"dataframe\">\n",
       "  <thead>\n",
       "    <tr style=\"text-align: right;\">\n",
       "      <th></th>\n",
       "      <th>ranking</th>\n",
       "      <th>price_range</th>\n",
       "      <th>number_of_reviews</th>\n",
       "      <th>rating</th>\n",
       "      <th>cuisine_style_isNAN</th>\n",
       "      <th>price_range_isNAN</th>\n",
       "      <th>number_of_reviews_isNAN</th>\n",
       "      <th>cuisine_size</th>\n",
       "      <th>whr</th>\n",
       "      <th>year_one</th>\n",
       "      <th>...</th>\n",
       "      <th>Ukrainian</th>\n",
       "      <th>Albanian</th>\n",
       "      <th>Polynesian</th>\n",
       "      <th>Caucasian</th>\n",
       "      <th>Uzbek</th>\n",
       "      <th>Salvadoran</th>\n",
       "      <th>Xinjiang</th>\n",
       "      <th>Burmese</th>\n",
       "      <th>Fujian</th>\n",
       "      <th>Latvian</th>\n",
       "    </tr>\n",
       "  </thead>\n",
       "  <tbody>\n",
       "    <tr>\n",
       "      <th>5868</th>\n",
       "      <td>5267.0</td>\n",
       "      <td>2</td>\n",
       "      <td>8.0</td>\n",
       "      <td>0.0</td>\n",
       "      <td>1</td>\n",
       "      <td>1</td>\n",
       "      <td>0</td>\n",
       "      <td>7</td>\n",
       "      <td>6.403</td>\n",
       "      <td>2017</td>\n",
       "      <td>...</td>\n",
       "      <td>0</td>\n",
       "      <td>0</td>\n",
       "      <td>0</td>\n",
       "      <td>0</td>\n",
       "      <td>0</td>\n",
       "      <td>0</td>\n",
       "      <td>0</td>\n",
       "      <td>0</td>\n",
       "      <td>0</td>\n",
       "      <td>0</td>\n",
       "    </tr>\n",
       "    <tr>\n",
       "      <th>9486</th>\n",
       "      <td>2028.0</td>\n",
       "      <td>2</td>\n",
       "      <td>7.0</td>\n",
       "      <td>0.0</td>\n",
       "      <td>0</td>\n",
       "      <td>0</td>\n",
       "      <td>0</td>\n",
       "      <td>2</td>\n",
       "      <td>6.891</td>\n",
       "      <td>2018</td>\n",
       "      <td>...</td>\n",
       "      <td>0</td>\n",
       "      <td>0</td>\n",
       "      <td>0</td>\n",
       "      <td>0</td>\n",
       "      <td>0</td>\n",
       "      <td>0</td>\n",
       "      <td>0</td>\n",
       "      <td>0</td>\n",
       "      <td>0</td>\n",
       "      <td>0</td>\n",
       "    </tr>\n",
       "    <tr>\n",
       "      <th>5222</th>\n",
       "      <td>1641.0</td>\n",
       "      <td>2</td>\n",
       "      <td>276.0</td>\n",
       "      <td>0.0</td>\n",
       "      <td>0</td>\n",
       "      <td>0</td>\n",
       "      <td>0</td>\n",
       "      <td>9</td>\n",
       "      <td>5.964</td>\n",
       "      <td>2017</td>\n",
       "      <td>...</td>\n",
       "      <td>0</td>\n",
       "      <td>0</td>\n",
       "      <td>0</td>\n",
       "      <td>0</td>\n",
       "      <td>0</td>\n",
       "      <td>0</td>\n",
       "      <td>0</td>\n",
       "      <td>0</td>\n",
       "      <td>0</td>\n",
       "      <td>0</td>\n",
       "    </tr>\n",
       "    <tr>\n",
       "      <th>4657</th>\n",
       "      <td>2903.0</td>\n",
       "      <td>2</td>\n",
       "      <td>12.0</td>\n",
       "      <td>0.0</td>\n",
       "      <td>1</td>\n",
       "      <td>1</td>\n",
       "      <td>0</td>\n",
       "      <td>8</td>\n",
       "      <td>6.951</td>\n",
       "      <td>2017</td>\n",
       "      <td>...</td>\n",
       "      <td>0</td>\n",
       "      <td>0</td>\n",
       "      <td>0</td>\n",
       "      <td>0</td>\n",
       "      <td>0</td>\n",
       "      <td>0</td>\n",
       "      <td>0</td>\n",
       "      <td>0</td>\n",
       "      <td>0</td>\n",
       "      <td>0</td>\n",
       "    </tr>\n",
       "    <tr>\n",
       "      <th>8237</th>\n",
       "      <td>11708.0</td>\n",
       "      <td>2</td>\n",
       "      <td>5.0</td>\n",
       "      <td>0.0</td>\n",
       "      <td>1</td>\n",
       "      <td>1</td>\n",
       "      <td>0</td>\n",
       "      <td>6</td>\n",
       "      <td>6.442</td>\n",
       "      <td>2017</td>\n",
       "      <td>...</td>\n",
       "      <td>0</td>\n",
       "      <td>0</td>\n",
       "      <td>0</td>\n",
       "      <td>0</td>\n",
       "      <td>0</td>\n",
       "      <td>0</td>\n",
       "      <td>0</td>\n",
       "      <td>0</td>\n",
       "      <td>0</td>\n",
       "      <td>0</td>\n",
       "    </tr>\n",
       "    <tr>\n",
       "      <th>9376</th>\n",
       "      <td>4473.0</td>\n",
       "      <td>2</td>\n",
       "      <td>12.0</td>\n",
       "      <td>0.0</td>\n",
       "      <td>1</td>\n",
       "      <td>1</td>\n",
       "      <td>0</td>\n",
       "      <td>7</td>\n",
       "      <td>6.403</td>\n",
       "      <td>2017</td>\n",
       "      <td>...</td>\n",
       "      <td>0</td>\n",
       "      <td>0</td>\n",
       "      <td>0</td>\n",
       "      <td>0</td>\n",
       "      <td>0</td>\n",
       "      <td>0</td>\n",
       "      <td>0</td>\n",
       "      <td>0</td>\n",
       "      <td>0</td>\n",
       "      <td>0</td>\n",
       "    </tr>\n",
       "    <tr>\n",
       "      <th>2159</th>\n",
       "      <td>1947.0</td>\n",
       "      <td>2</td>\n",
       "      <td>11.0</td>\n",
       "      <td>0.0</td>\n",
       "      <td>1</td>\n",
       "      <td>1</td>\n",
       "      <td>0</td>\n",
       "      <td>8</td>\n",
       "      <td>7.377</td>\n",
       "      <td>2017</td>\n",
       "      <td>...</td>\n",
       "      <td>0</td>\n",
       "      <td>0</td>\n",
       "      <td>0</td>\n",
       "      <td>0</td>\n",
       "      <td>0</td>\n",
       "      <td>0</td>\n",
       "      <td>0</td>\n",
       "      <td>0</td>\n",
       "      <td>0</td>\n",
       "      <td>0</td>\n",
       "    </tr>\n",
       "    <tr>\n",
       "      <th>8799</th>\n",
       "      <td>828.0</td>\n",
       "      <td>2</td>\n",
       "      <td>12.0</td>\n",
       "      <td>0.0</td>\n",
       "      <td>1</td>\n",
       "      <td>1</td>\n",
       "      <td>0</td>\n",
       "      <td>8</td>\n",
       "      <td>7.284</td>\n",
       "      <td>2017</td>\n",
       "      <td>...</td>\n",
       "      <td>0</td>\n",
       "      <td>0</td>\n",
       "      <td>0</td>\n",
       "      <td>0</td>\n",
       "      <td>0</td>\n",
       "      <td>0</td>\n",
       "      <td>0</td>\n",
       "      <td>0</td>\n",
       "      <td>0</td>\n",
       "      <td>0</td>\n",
       "    </tr>\n",
       "    <tr>\n",
       "      <th>7361</th>\n",
       "      <td>1275.0</td>\n",
       "      <td>2</td>\n",
       "      <td>545.0</td>\n",
       "      <td>0.0</td>\n",
       "      <td>0</td>\n",
       "      <td>0</td>\n",
       "      <td>0</td>\n",
       "      <td>7</td>\n",
       "      <td>6.714</td>\n",
       "      <td>2017</td>\n",
       "      <td>...</td>\n",
       "      <td>0</td>\n",
       "      <td>0</td>\n",
       "      <td>0</td>\n",
       "      <td>0</td>\n",
       "      <td>0</td>\n",
       "      <td>0</td>\n",
       "      <td>0</td>\n",
       "      <td>0</td>\n",
       "      <td>0</td>\n",
       "      <td>0</td>\n",
       "    </tr>\n",
       "    <tr>\n",
       "      <th>2123</th>\n",
       "      <td>466.0</td>\n",
       "      <td>2</td>\n",
       "      <td>91.0</td>\n",
       "      <td>0.0</td>\n",
       "      <td>0</td>\n",
       "      <td>0</td>\n",
       "      <td>0</td>\n",
       "      <td>7</td>\n",
       "      <td>5.195</td>\n",
       "      <td>2018</td>\n",
       "      <td>...</td>\n",
       "      <td>0</td>\n",
       "      <td>0</td>\n",
       "      <td>0</td>\n",
       "      <td>0</td>\n",
       "      <td>0</td>\n",
       "      <td>0</td>\n",
       "      <td>0</td>\n",
       "      <td>0</td>\n",
       "      <td>0</td>\n",
       "      <td>0</td>\n",
       "    </tr>\n",
       "  </tbody>\n",
       "</table>\n",
       "<p>10 rows × 180 columns</p>\n",
       "</div>"
      ],
      "text/plain": [
       "      ranking price_range  number_of_reviews  rating  cuisine_style_isNAN  \\\n",
       "5868   5267.0           2                8.0     0.0                    1   \n",
       "9486   2028.0           2                7.0     0.0                    0   \n",
       "5222   1641.0           2              276.0     0.0                    0   \n",
       "4657   2903.0           2               12.0     0.0                    1   \n",
       "8237  11708.0           2                5.0     0.0                    1   \n",
       "9376   4473.0           2               12.0     0.0                    1   \n",
       "2159   1947.0           2               11.0     0.0                    1   \n",
       "8799    828.0           2               12.0     0.0                    1   \n",
       "7361   1275.0           2              545.0     0.0                    0   \n",
       "2123    466.0           2               91.0     0.0                    0   \n",
       "\n",
       "      price_range_isNAN  number_of_reviews_isNAN cuisine_size    whr year_one  \\\n",
       "5868                  1                        0            7  6.403     2017   \n",
       "9486                  0                        0            2  6.891     2018   \n",
       "5222                  0                        0            9  5.964     2017   \n",
       "4657                  1                        0            8  6.951     2017   \n",
       "8237                  1                        0            6  6.442     2017   \n",
       "9376                  1                        0            7  6.403     2017   \n",
       "2159                  1                        0            8  7.377     2017   \n",
       "8799                  1                        0            8  7.284     2017   \n",
       "7361                  0                        0            7  6.714     2017   \n",
       "2123                  0                        0            7  5.195     2018   \n",
       "\n",
       "      ... Ukrainian Albanian Polynesian Caucasian Uzbek  Salvadoran Xinjiang  \\\n",
       "5868  ...         0        0          0         0     0           0        0   \n",
       "9486  ...         0        0          0         0     0           0        0   \n",
       "5222  ...         0        0          0         0     0           0        0   \n",
       "4657  ...         0        0          0         0     0           0        0   \n",
       "8237  ...         0        0          0         0     0           0        0   \n",
       "9376  ...         0        0          0         0     0           0        0   \n",
       "2159  ...         0        0          0         0     0           0        0   \n",
       "8799  ...         0        0          0         0     0           0        0   \n",
       "7361  ...         0        0          0         0     0           0        0   \n",
       "2123  ...         0        0          0         0     0           0        0   \n",
       "\n",
       "      Burmese  Fujian  Latvian  \n",
       "5868        0       0        0  \n",
       "9486        0       0        0  \n",
       "5222        0       0        0  \n",
       "4657        0       0        0  \n",
       "8237        0       0        0  \n",
       "9376        0       0        0  \n",
       "2159        0       0        0  \n",
       "8799        0       0        0  \n",
       "7361        0       0        0  \n",
       "2123        0       0        0  \n",
       "\n",
       "[10 rows x 180 columns]"
      ]
     },
     "execution_count": 94,
     "metadata": {},
     "output_type": "execute_result"
    }
   ],
   "source": [
    "test_data.sample(10)"
   ]
  },
  {
   "cell_type": "code",
   "execution_count": 95,
   "metadata": {
    "execution": {
     "iopub.execute_input": "2021-06-12T18:04:31.812907Z",
     "iopub.status.busy": "2021-06-12T18:04:31.812545Z",
     "iopub.status.idle": "2021-06-12T18:04:31.823685Z",
     "shell.execute_reply": "2021-06-12T18:04:31.822924Z",
     "shell.execute_reply.started": "2021-06-12T18:04:31.812837Z"
    }
   },
   "outputs": [],
   "source": [
    "test_data = test_data.drop('rating', axis=1)"
   ]
  },
  {
   "cell_type": "code",
   "execution_count": 96,
   "metadata": {
    "execution": {
     "iopub.execute_input": "2021-06-12T17:52:18.630151Z",
     "iopub.status.busy": "2021-06-12T17:52:18.629737Z",
     "iopub.status.idle": "2021-06-12T17:52:18.646396Z",
     "shell.execute_reply": "2021-06-12T17:52:18.645437Z",
     "shell.execute_reply.started": "2021-06-12T17:52:18.630092Z"
    }
   },
   "outputs": [
    {
     "data": {
      "text/html": [
       "<div>\n",
       "<style scoped>\n",
       "    .dataframe tbody tr th:only-of-type {\n",
       "        vertical-align: middle;\n",
       "    }\n",
       "\n",
       "    .dataframe tbody tr th {\n",
       "        vertical-align: top;\n",
       "    }\n",
       "\n",
       "    .dataframe thead th {\n",
       "        text-align: right;\n",
       "    }\n",
       "</style>\n",
       "<table border=\"1\" class=\"dataframe\">\n",
       "  <thead>\n",
       "    <tr style=\"text-align: right;\">\n",
       "      <th></th>\n",
       "      <th>restaurant_id</th>\n",
       "      <th>rating</th>\n",
       "    </tr>\n",
       "  </thead>\n",
       "  <tbody>\n",
       "    <tr>\n",
       "      <th>0</th>\n",
       "      <td>id_0</td>\n",
       "      <td>2.0</td>\n",
       "    </tr>\n",
       "    <tr>\n",
       "      <th>1</th>\n",
       "      <td>id_1</td>\n",
       "      <td>2.5</td>\n",
       "    </tr>\n",
       "    <tr>\n",
       "      <th>2</th>\n",
       "      <td>id_2</td>\n",
       "      <td>4.0</td>\n",
       "    </tr>\n",
       "    <tr>\n",
       "      <th>3</th>\n",
       "      <td>id_3</td>\n",
       "      <td>1.0</td>\n",
       "    </tr>\n",
       "    <tr>\n",
       "      <th>4</th>\n",
       "      <td>id_4</td>\n",
       "      <td>4.0</td>\n",
       "    </tr>\n",
       "    <tr>\n",
       "      <th>...</th>\n",
       "      <td>...</td>\n",
       "      <td>...</td>\n",
       "    </tr>\n",
       "    <tr>\n",
       "      <th>9995</th>\n",
       "      <td>id_9995</td>\n",
       "      <td>3.0</td>\n",
       "    </tr>\n",
       "    <tr>\n",
       "      <th>9996</th>\n",
       "      <td>id_9996</td>\n",
       "      <td>1.5</td>\n",
       "    </tr>\n",
       "    <tr>\n",
       "      <th>9997</th>\n",
       "      <td>id_9997</td>\n",
       "      <td>4.5</td>\n",
       "    </tr>\n",
       "    <tr>\n",
       "      <th>9998</th>\n",
       "      <td>id_9998</td>\n",
       "      <td>1.0</td>\n",
       "    </tr>\n",
       "    <tr>\n",
       "      <th>9999</th>\n",
       "      <td>id_9999</td>\n",
       "      <td>2.5</td>\n",
       "    </tr>\n",
       "  </tbody>\n",
       "</table>\n",
       "<p>10000 rows × 2 columns</p>\n",
       "</div>"
      ],
      "text/plain": [
       "     restaurant_id  rating\n",
       "0             id_0     2.0\n",
       "1             id_1     2.5\n",
       "2             id_2     4.0\n",
       "3             id_3     1.0\n",
       "4             id_4     4.0\n",
       "...            ...     ...\n",
       "9995       id_9995     3.0\n",
       "9996       id_9996     1.5\n",
       "9997       id_9997     4.5\n",
       "9998       id_9998     1.0\n",
       "9999       id_9999     2.5\n",
       "\n",
       "[10000 rows x 2 columns]"
      ]
     },
     "execution_count": 96,
     "metadata": {},
     "output_type": "execute_result"
    }
   ],
   "source": [
    "sample_submission"
   ]
  },
  {
   "cell_type": "code",
   "execution_count": 97,
   "metadata": {
    "execution": {
     "iopub.execute_input": "2021-06-12T18:04:36.938436Z",
     "iopub.status.busy": "2021-06-12T18:04:36.937964Z",
     "iopub.status.idle": "2021-06-12T18:04:37.339617Z",
     "shell.execute_reply": "2021-06-12T18:04:37.338764Z",
     "shell.execute_reply.started": "2021-06-12T18:04:36.938373Z"
    }
   },
   "outputs": [
    {
     "name": "stderr",
     "output_type": "stream",
     "text": [
      "[Parallel(n_jobs=4)]: Using backend ThreadingBackend with 4 concurrent workers.\n",
      "[Parallel(n_jobs=4)]: Done  42 tasks      | elapsed:    0.0s\n",
      "[Parallel(n_jobs=4)]: Done 100 out of 100 | elapsed:    0.1s finished\n"
     ]
    }
   ],
   "source": [
    "predict_submission = pd.Series(model.predict(test_data)).apply(lambda x: round(x *2) / 2)"
   ]
  },
  {
   "cell_type": "code",
   "execution_count": 98,
   "metadata": {
    "execution": {
     "iopub.execute_input": "2021-06-12T18:05:07.114074Z",
     "iopub.status.busy": "2021-06-12T18:05:07.113703Z",
     "iopub.status.idle": "2021-06-12T18:05:07.121874Z",
     "shell.execute_reply": "2021-06-12T18:05:07.120627Z",
     "shell.execute_reply.started": "2021-06-12T18:05:07.114016Z"
    }
   },
   "outputs": [
    {
     "data": {
      "text/plain": [
       "10000"
      ]
     },
     "execution_count": 98,
     "metadata": {},
     "output_type": "execute_result"
    }
   ],
   "source": [
    "len(predict_submission)"
   ]
  },
  {
   "cell_type": "code",
   "execution_count": 99,
   "metadata": {
    "execution": {
     "iopub.execute_input": "2021-06-12T18:05:18.939683Z",
     "iopub.status.busy": "2021-06-12T18:05:18.939092Z",
     "iopub.status.idle": "2021-06-12T18:05:19.467091Z",
     "shell.execute_reply": "2021-06-12T18:05:19.466052Z",
     "shell.execute_reply.started": "2021-06-12T18:05:18.939634Z"
    }
   },
   "outputs": [
    {
     "data": {
      "text/html": [
       "<div>\n",
       "<style scoped>\n",
       "    .dataframe tbody tr th:only-of-type {\n",
       "        vertical-align: middle;\n",
       "    }\n",
       "\n",
       "    .dataframe tbody tr th {\n",
       "        vertical-align: top;\n",
       "    }\n",
       "\n",
       "    .dataframe thead th {\n",
       "        text-align: right;\n",
       "    }\n",
       "</style>\n",
       "<table border=\"1\" class=\"dataframe\">\n",
       "  <thead>\n",
       "    <tr style=\"text-align: right;\">\n",
       "      <th></th>\n",
       "      <th>Restaurant_id</th>\n",
       "      <th>Rating</th>\n",
       "    </tr>\n",
       "  </thead>\n",
       "  <tbody>\n",
       "    <tr>\n",
       "      <th>0</th>\n",
       "      <td>id_0</td>\n",
       "      <td>3.0</td>\n",
       "    </tr>\n",
       "    <tr>\n",
       "      <th>1</th>\n",
       "      <td>id_1</td>\n",
       "      <td>4.0</td>\n",
       "    </tr>\n",
       "    <tr>\n",
       "      <th>2</th>\n",
       "      <td>id_2</td>\n",
       "      <td>4.5</td>\n",
       "    </tr>\n",
       "    <tr>\n",
       "      <th>3</th>\n",
       "      <td>id_3</td>\n",
       "      <td>4.5</td>\n",
       "    </tr>\n",
       "    <tr>\n",
       "      <th>4</th>\n",
       "      <td>id_4</td>\n",
       "      <td>4.5</td>\n",
       "    </tr>\n",
       "    <tr>\n",
       "      <th>5</th>\n",
       "      <td>id_5</td>\n",
       "      <td>4.5</td>\n",
       "    </tr>\n",
       "    <tr>\n",
       "      <th>6</th>\n",
       "      <td>id_6</td>\n",
       "      <td>2.5</td>\n",
       "    </tr>\n",
       "    <tr>\n",
       "      <th>7</th>\n",
       "      <td>id_7</td>\n",
       "      <td>2.5</td>\n",
       "    </tr>\n",
       "    <tr>\n",
       "      <th>8</th>\n",
       "      <td>id_8</td>\n",
       "      <td>4.0</td>\n",
       "    </tr>\n",
       "    <tr>\n",
       "      <th>9</th>\n",
       "      <td>id_9</td>\n",
       "      <td>4.5</td>\n",
       "    </tr>\n",
       "  </tbody>\n",
       "</table>\n",
       "</div>"
      ],
      "text/plain": [
       "  Restaurant_id  Rating\n",
       "0          id_0     3.0\n",
       "1          id_1     4.0\n",
       "2          id_2     4.5\n",
       "3          id_3     4.5\n",
       "4          id_4     4.5\n",
       "5          id_5     4.5\n",
       "6          id_6     2.5\n",
       "7          id_7     2.5\n",
       "8          id_8     4.0\n",
       "9          id_9     4.5"
      ]
     },
     "execution_count": 99,
     "metadata": {},
     "output_type": "execute_result"
    }
   ],
   "source": [
    "sample_submission['rating'] = predict_submission\n",
    "sample_submission.to_csv('submission.csv', index=False)\n",
    "sample_submission.columns = ['Restaurant_id', 'Rating']\n",
    "sample_submission.head(10)"
   ]
  },
  {
   "cell_type": "code",
   "execution_count": null,
   "metadata": {},
   "outputs": [],
   "source": []
  }
 ],
 "metadata": {
  "kernelspec": {
   "display_name": "Python 3",
   "language": "python",
   "name": "python3"
  },
  "language_info": {
   "codemirror_mode": {
    "name": "ipython",
    "version": 3
   },
   "file_extension": ".py",
   "mimetype": "text/x-python",
   "name": "python",
   "nbconvert_exporter": "python",
   "pygments_lexer": "ipython3",
   "version": "3.6.6"
  }
 },
 "nbformat": 4,
 "nbformat_minor": 4
}
